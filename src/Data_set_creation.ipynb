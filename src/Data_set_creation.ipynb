{
 "cells": [
  {
   "cell_type": "code",
   "execution_count": null,
   "id": "40cff718-7ad3-414f-9998-7c1641a1151b",
   "metadata": {},
   "outputs": [],
   "source": [
    "# !pip install spotipy"
   ]
  },
  {
   "cell_type": "code",
   "execution_count": 1,
   "id": "481e24eb-543a-482d-8792-02541069f81f",
   "metadata": {},
   "outputs": [],
   "source": [
    "import operator\n",
    "import sys\n",
    "import pyspark\n",
    "from pyspark.sql import SparkSession, types\n",
    "from pyspark import SparkConf, SparkContext\n",
    "import matplotlib.pyplot as plt\n",
    "%matplotlib inline\n",
    "import numpy as np\n",
    "import pandas as pd"
   ]
  },
  {
   "cell_type": "code",
   "execution_count": 12,
   "id": "957173c1-c522-4d95-ac88-8b5e5ce49eb7",
   "metadata": {},
   "outputs": [],
   "source": [
    "CLIENT_ID = 'd3e048fac0e8438cab168ac60459044c'\n",
    "CLIENT_SECRET = '4d47925e9199481fb41cc0c1406de938'"
   ]
  },
  {
   "cell_type": "code",
   "execution_count": 13,
   "id": "7849caa9-d683-47fa-a7d4-f90aea990624",
   "metadata": {},
   "outputs": [],
   "source": [
    "import spotipy\n",
    "from spotipy.oauth2 import SpotifyClientCredentials\n",
    "cid = CLIENT_ID\n",
    "secret = CLIENT_SECRET\n",
    "client_credentials_manager = SpotifyClientCredentials(\n",
    "    client_id=cid, client_secret=secret)\n",
    "sp = spotipy.Spotify(client_credentials_manager=client_credentials_manager)"
   ]
  },
  {
   "cell_type": "code",
   "execution_count": 4,
   "id": "b35d1f4e-169d-4e5f-8c1a-c99b1aaa6ad8",
   "metadata": {},
   "outputs": [],
   "source": [
    "# create lists of columns to be used when reading/merging the csv's\n",
    "columns = ['title', 'rank', 'date', 'artist', 'url', 'region', 'chart', 'trend', 'streams']\n",
    "DATA_PATH = \"gs://big_data_spotify_bucket/charts.csv\"\n",
    "# Spark settings\n",
    "sc = SparkContext.getOrCreate()\n",
    "spark = SparkSession(sc)\n",
    "# sp.audio_features(track_url)[0]"
   ]
  },
  {
   "cell_type": "code",
   "execution_count": 5,
   "id": "10705c76-c1d0-4ff4-8d1a-037ac12c43e3",
   "metadata": {},
   "outputs": [
    {
     "name": "stderr",
     "output_type": "stream",
     "text": [
      "                                                                                \r"
     ]
    }
   ],
   "source": [
    "# Load the data, cache this since we're accessing this each iteration\n",
    "data = spark.read.format(\"csv\").option(\"header\", \"true\").load(DATA_PATH).cache()\n",
    "#==============================="
   ]
  },
  {
   "cell_type": "code",
   "execution_count": 6,
   "id": "2087cbde-f5dc-4a24-a063-5fab0316680b",
   "metadata": {},
   "outputs": [
    {
     "name": "stdout",
     "output_type": "stream",
     "text": [
      "root\n",
      " |-- title: string (nullable = true)\n",
      " |-- rank: integer (nullable = true)\n",
      " |-- date: string (nullable = true)\n",
      " |-- artist: string (nullable = true)\n",
      " |-- url: string (nullable = true)\n",
      " |-- region: string (nullable = true)\n",
      " |-- chart: string (nullable = true)\n",
      " |-- trend: string (nullable = true)\n",
      " |-- streams: integer (nullable = true)\n",
      "\n"
     ]
    },
    {
     "name": "stderr",
     "output_type": "stream",
     "text": [
      "[Stage 1:>                                                          (0 + 1) / 1]\r"
     ]
    },
    {
     "name": "stdout",
     "output_type": "stream",
     "text": [
      "+--------------------+----+----------+--------------------+--------------------+---------+------+-------------+-------+\n",
      "|               title|rank|      date|              artist|                 url|   region| chart|        trend|streams|\n",
      "+--------------------+----+----------+--------------------+--------------------+---------+------+-------------+-------+\n",
      "|Chantaje (feat. M...|   1|2017-01-01|             Shakira|https://open.spot...|Argentina|top200|SAME_POSITION| 253019|\n",
      "|Vente Pa' Ca (fea...|   2|2017-01-01|        Ricky Martin|https://open.spot...|Argentina|top200|      MOVE_UP| 223988|\n",
      "|Reggaetón Lento (...|   3|2017-01-01|                CNCO|https://open.spot...|Argentina|top200|    MOVE_DOWN| 210943|\n",
      "|              Safari|   4|2017-01-01|J Balvin, Pharrel...|https://open.spot...|Argentina|top200|SAME_POSITION| 173865|\n",
      "|         Shaky Shaky|   5|2017-01-01|        Daddy Yankee|https://open.spot...|Argentina|top200|      MOVE_UP| 153956|\n",
      "|         Traicionera|   6|2017-01-01|     Sebastian Yatra|https://open.spot...|Argentina|top200|    MOVE_DOWN| 151140|\n",
      "|Cuando Se Pone a ...|   7|2017-01-01|              Rombai|https://open.spot...|Argentina|top200|    MOVE_DOWN| 148369|\n",
      "|Otra vez (feat. J...|   8|2017-01-01|       Zion & Lennox|https://open.spot...|Argentina|top200|    MOVE_DOWN| 143004|\n",
      "|        La Bicicleta|   9|2017-01-01|Carlos Vives, Sha...|https://open.spot...|Argentina|top200|      MOVE_UP| 126389|\n",
      "|Dile Que Tu Me Qu...|  10|2017-01-01|               Ozuna|https://open.spot...|Argentina|top200|    MOVE_DOWN| 112012|\n",
      "|  Andas En Mi Cabeza|  11|2017-01-01|Chino & Nacho, Da...|https://open.spot...|Argentina|top200|SAME_POSITION| 110395|\n",
      "|Desde Esa Noche (...|  12|2017-01-01|              Thalia|https://open.spot...|Argentina|top200|      MOVE_UP| 104592|\n",
      "|      Borro Cassette|  13|2017-01-01|              Maluma|https://open.spot...|Argentina|top200|      MOVE_UP| 101535|\n",
      "|Gyal You A Party ...|  14|2017-01-01|Charly Black, Dad...|https://open.spot...|Argentina|top200|    MOVE_DOWN|  99722|\n",
      "|Me llamas (feat. ...|  15|2017-01-01|             Piso 21|https://open.spot...|Argentina|top200|    MOVE_DOWN|  95010|\n",
      "|La Bicicleta (fea...|  16|2017-01-01|Carlos Vives, Sha...|https://open.spot...|Argentina|top200|      MOVE_UP|  92723|\n",
      "|DUELE EL CORAZON ...|  17|2017-01-01|    Enrique Iglesias|https://open.spot...|Argentina|top200|      MOVE_UP|  91325|\n",
      "|     Let Me Love You|  18|2017-01-01|DJ Snake, Justin ...|https://open.spot...|Argentina|top200|    MOVE_DOWN|  87926|\n",
      "|La Noche No Es pa...|  19|2017-01-01|         Mano Arriba|https://open.spot...|Argentina|top200|SAME_POSITION|  87033|\n",
      "|          Vacaciones|  20|2017-01-01|               Wisin|https://open.spot...|Argentina|top200|    MOVE_DOWN|  86103|\n",
      "+--------------------+----+----------+--------------------+--------------------+---------+------+-------------+-------+\n",
      "only showing top 20 rows\n",
      "\n"
     ]
    },
    {
     "name": "stderr",
     "output_type": "stream",
     "text": [
      "                                                                                \r"
     ]
    }
   ],
   "source": [
    "data = data.withColumn(\"rank\", data[\"rank\"].cast(\"int\")).withColumn(\"streams\", data[\"streams\"].cast(\"int\"))\n",
    "data.printSchema()\n",
    "data.show(20)\n",
    "# data.count()"
   ]
  },
  {
   "cell_type": "code",
   "execution_count": 7,
   "id": "85f3cb71-5cb6-42d5-a6f0-9a44fddff690",
   "metadata": {},
   "outputs": [
    {
     "name": "stdout",
     "output_type": "stream",
     "text": [
      "https://open.spotify.com/track/6mICuAdrwEjh6Y6lroV2Kg\n"
     ]
    },
    {
     "data": {
      "text/plain": [
       "{'danceability': 0.852,\n",
       " 'energy': 0.773,\n",
       " 'key': 8,\n",
       " 'loudness': -2.921,\n",
       " 'mode': 0,\n",
       " 'speechiness': 0.0776,\n",
       " 'acousticness': 0.187,\n",
       " 'instrumentalness': 3.05e-05,\n",
       " 'liveness': 0.159,\n",
       " 'valence': 0.907,\n",
       " 'tempo': 102.034,\n",
       " 'type': 'audio_features',\n",
       " 'id': '6mICuAdrwEjh6Y6lroV2Kg',\n",
       " 'uri': 'spotify:track:6mICuAdrwEjh6Y6lroV2Kg',\n",
       " 'track_href': 'https://api.spotify.com/v1/tracks/6mICuAdrwEjh6Y6lroV2Kg',\n",
       " 'analysis_url': 'https://api.spotify.com/v1/audio-analysis/6mICuAdrwEjh6Y6lroV2Kg',\n",
       " 'duration_ms': 195840,\n",
       " 'time_signature': 4}"
      ]
     },
     "execution_count": 7,
     "metadata": {},
     "output_type": "execute_result"
    }
   ],
   "source": [
    "\n",
    "# data.take(1)\n",
    "url_column = data.select('url')\n",
    "print(url_column.take(1)[0][0])\n",
    "sp.audio_features(url_column.take(1)[0][0])[0]\n",
    "7w87IxuO7BDcJ3YUqCyMTT"
   ]
  },
  {
   "cell_type": "code",
   "execution_count": 8,
   "id": "9370c72f-b3c7-4b00-8b41-5c2cfdc44a29",
   "metadata": {},
   "outputs": [
    {
     "name": "stderr",
     "output_type": "stream",
     "text": [
      "                                                                                \r"
     ]
    },
    {
     "data": {
      "text/plain": [
       "(100000, 9)"
      ]
     },
     "execution_count": 8,
     "metadata": {},
     "output_type": "execute_result"
    }
   ],
   "source": [
    "data_pd = data.limit(100000).toPandas()\n",
    "data_pd.shape"
   ]
  },
  {
   "cell_type": "code",
   "execution_count": null,
   "id": "d3c92d9a-bc70-4efd-ad9b-b0e304d6282e",
   "metadata": {},
   "outputs": [
    {
     "name": "stdout",
     "output_type": "stream",
     "text": [
      "31000\n",
      "32000\n",
      "33000\n",
      "34000\n",
      "35000\n",
      "36000\n",
      "37000\n",
      "38000\n",
      "39000\n",
      "40000\n",
      "41000\n",
      "42000\n",
      "43000\n",
      "44000\n",
      "45000\n",
      "46000\n",
      "47000\n",
      "48000\n",
      "49000\n",
      "50000\n",
      "51000\n",
      "52000\n",
      "53000\n",
      "54000\n",
      "55000\n",
      "56000\n",
      "57000\n",
      "58000\n",
      "59000\n",
      "60000\n",
      "61000\n",
      "62000\n",
      "63000\n",
      "64000\n",
      "65000\n",
      "66000\n",
      "67000\n",
      "68000\n",
      "69000\n",
      "70000\n",
      "71000\n",
      "72000\n",
      "73000\n",
      "74000\n",
      "75000\n",
      "76000\n",
      "77000\n",
      "78000\n",
      "79000\n",
      "80000\n",
      "81000\n",
      "82000\n",
      "83000\n",
      "84000\n",
      "85000\n",
      "86000\n",
      "87000\n",
      "88000\n",
      "89000\n",
      "90000\n",
      "91000\n",
      "92000\n",
      "93000\n",
      "94000\n",
      "95000\n",
      "96000\n",
      "97000\n",
      "98000\n",
      "99000\n"
     ]
    }
   ],
   "source": [
    "track_features = []\n",
    "tf_df = pd.DataFrame(columns = ['danceability', 'energy', 'key', 'loudness', 'mode', 'speechiness', 'acousticness', 'instrumentalness', 'liveness', 'valence', 'tempo', 'type', 'id', 'uri', 'track_href', 'analysis_url', 'duration_ms', 'time_signature'])\n",
    "cols_to_drop2 = ['key', 'mode', 'type', 'track_href', 'analysis_url']\n",
    "for index, row in data_pd.iterrows():\n",
    "    if index > 30000:\n",
    "        if index % 1000 == 0:\n",
    "            print(index)\n",
    "    #         print(sp.audio_features(row['url'])[0])  \n",
    "            temp_df = tf_df.drop(columns=cols_to_drop2)\n",
    "            new_df = pd.concat([data_pd, temp_df], axis=1)\n",
    "    #         print(new_df.shape)\n",
    "            new_df.to_csv(\"gs://big_data_spotify_bucket/processed_data_v2.csv\")\n",
    "\n",
    "        audio_features = sp.audio_features(row['url'])[0]\n",
    "        tf_df = tf_df.append(audio_features, ignore_index = True)\n",
    "    \n",
    "#     track_features.append(audio_features)\n",
    "\n",
    "# tf_df.head()\n",
    "temp_df = tf_df.drop(columns=cols_to_drop2)\n",
    "new_df = pd.concat([data_pd, temp_df], axis=1)\n",
    "print(new_df.shape)\n",
    "new_df.to_csv(\"gs://big_data_spotify_bucket/processed_data_v2.csv\")"
   ]
  },
  {
   "cell_type": "code",
   "execution_count": null,
   "id": "5e1dc26a-48ce-4785-adf0-aa5c74c356d6",
   "metadata": {},
   "outputs": [],
   "source": [
    "# cols_to_drop2 = ['key', 'mode', 'type', 'track_href', 'analysis_url']\n",
    "# tf_df = tf_df.drop(columns=cols_to_drop2)\n",
    "# print(track_df.info())\n",
    "# print(tf_df.info())\n",
    "# new_df = pd.concat([data_pd, tf_df], axis=1)\n",
    "# new_df.head()\n",
    "# sparkDF=spark.createDataFrame(new_df) \n",
    "# sparkDF.printSchema()\n",
    "# sparkDF.show(20)"
   ]
  },
  {
   "cell_type": "code",
   "execution_count": null,
   "id": "dfc5e49a-f254-4e52-809a-0f8ad011a7e5",
   "metadata": {},
   "outputs": [],
   "source": [
    "# new_df.shape"
   ]
  },
  {
   "cell_type": "code",
   "execution_count": null,
   "id": "a5de30c1-e248-42ce-bda5-e1d2d6e90545",
   "metadata": {},
   "outputs": [],
   "source": [
    "# save data\n",
    "# new_df.to_csv(\"gs://big_data_spotify_bucket/processed_data.csv\")"
   ]
  },
  {
   "cell_type": "code",
   "execution_count": null,
   "id": "31a8a342-e83a-4446-a257-85b8b07284fc",
   "metadata": {},
   "outputs": [],
   "source": [
    "# # Define the number of splits you want\n",
    "# n_splits = 6\n",
    "  \n",
    "# # Calculate count of each dataframe rows\n",
    "# each_len = 26173514 // n_splits\n",
    "  \n",
    "# # Create a copy of original dataframe\n",
    "# copy_df = data\n",
    "  \n",
    "# # Iterate for each dataframe\n",
    "# i = 0\n",
    "# while i < n_splits:\n",
    "  \n",
    "#     # Get the top `each_len` number of rows\n",
    "#     temp_df = copy_df.limit(each_len)\n",
    "  \n",
    "#     # Truncate the `copy_df` to remove\n",
    "#     # the contents fetched for `temp_df`\n",
    "#     copy_df = copy_df.subtract(temp_df)\n",
    "  \n",
    "#     # View the dataframe\n",
    "# #     print(temp_df.count())\n",
    "# #     temp_df.show(20)\n",
    "#     temp = temp_df.toPandas()\n",
    "#     print(temp.shape)\n",
    "#     # Increment the split number\n",
    "#     i += 1"
   ]
  },
  {
   "cell_type": "code",
   "execution_count": 14,
   "id": "ca6d51c3-1d56-47d7-899a-ef194601cfcb",
   "metadata": {},
   "outputs": [
    {
     "data": {
      "text/plain": [
       "{'danceability': 0.733,\n",
       " 'energy': 0.71,\n",
       " 'key': 5,\n",
       " 'loudness': -5.849,\n",
       " 'mode': 0,\n",
       " 'speechiness': 0.0292,\n",
       " 'acousticness': 0.145,\n",
       " 'instrumentalness': 0.115,\n",
       " 'liveness': 0.0956,\n",
       " 'valence': 0.965,\n",
       " 'tempo': 127.975,\n",
       " 'type': 'audio_features',\n",
       " 'id': '7w87IxuO7BDcJ3YUqCyMTT',\n",
       " 'uri': 'spotify:track:7w87IxuO7BDcJ3YUqCyMTT',\n",
       " 'track_href': 'https://api.spotify.com/v1/tracks/7w87IxuO7BDcJ3YUqCyMTT',\n",
       " 'analysis_url': 'https://api.spotify.com/v1/audio-analysis/7w87IxuO7BDcJ3YUqCyMTT',\n",
       " 'duration_ms': 239600,\n",
       " 'time_signature': 4}"
      ]
     },
     "execution_count": 14,
     "metadata": {},
     "output_type": "execute_result"
    }
   ],
   "source": [
    "sp.audio_features('7w87IxuO7BDcJ3YUqCyMTT')[0]"
   ]
  },
  {
   "cell_type": "code",
   "execution_count": 45,
   "id": "13e64c8f-2fa4-45ee-9b26-8e76d1cf74df",
   "metadata": {},
   "outputs": [
    {
     "name": "stderr",
     "output_type": "stream",
     "text": [
      "/opt/conda/miniconda3/lib/python3.8/site-packages/IPython/core/interactiveshell.py:3194: DtypeWarning: Columns (19,20) have mixed types.Specify dtype option on import or set low_memory=False.\n",
      "  has_raised = await self.run_ast_nodes(code_ast.body, cell_name,\n"
     ]
    }
   ],
   "source": [
    "data1 = pd.read_csv(\"gs://big_data_spotify_bucket/processed_data.csv\")\n",
    "data2 = pd.read_csv(\"gs://big_data_spotify_bucket/processed_data_v2.csv\")"
   ]
  },
  {
   "cell_type": "code",
   "execution_count": 47,
   "id": "abcc8f79-41de-4e4a-a8bf-7241d051485c",
   "metadata": {},
   "outputs": [
    {
     "data": {
      "text/plain": [
       "title                   0\n",
       "rank                    0\n",
       "date                    0\n",
       "artist                  0\n",
       "url                     0\n",
       "region                  0\n",
       "chart                   0\n",
       "trend                   0\n",
       "streams             11142\n",
       "danceability        70006\n",
       "energy              70006\n",
       "loudness            70006\n",
       "speechiness         70006\n",
       "acousticness        70006\n",
       "instrumentalness    70006\n",
       "liveness            70006\n",
       "valence             70006\n",
       "tempo               70006\n",
       "id                  70006\n",
       "uri                 70006\n",
       "duration_ms         70006\n",
       "time_signature      70006\n",
       "dtype: int64"
      ]
     },
     "execution_count": 47,
     "metadata": {},
     "output_type": "execute_result"
    }
   ],
   "source": [
    "# new_df = pd.concat([data1, data2], axis=0)\n",
    "# # new_df.to_csv(\"gs://big_data_spotify_bucket/processed_data_v3.csv\")\n",
    "# new_df2 = new_df.iloc[0:100000]\n",
    "# new_df2\n",
    "# data1.drop(columns=data1.columns[0], axis=1, inplace=True)\n",
    "# data2.drop(columns=data2.columns[0], axis=1, inplace=True)\n"
   ]
  },
  {
   "cell_type": "code",
   "execution_count": 48,
   "id": "8cfbe0eb-2a81-4c10-90e9-072eb9709d83",
   "metadata": {},
   "outputs": [
    {
     "data": {
      "text/plain": [
       "title                   0\n",
       "rank                    0\n",
       "date                    0\n",
       "artist                  0\n",
       "url                     0\n",
       "region                  0\n",
       "chart                   0\n",
       "trend                   0\n",
       "streams             11142\n",
       "danceability        70006\n",
       "energy              70006\n",
       "loudness            70006\n",
       "speechiness         70006\n",
       "acousticness        70006\n",
       "instrumentalness    70006\n",
       "liveness            70006\n",
       "valence             70006\n",
       "tempo               70006\n",
       "id                  70006\n",
       "uri                 70006\n",
       "duration_ms         70006\n",
       "time_signature      70006\n",
       "dtype: int64"
      ]
     },
     "execution_count": 48,
     "metadata": {},
     "output_type": "execute_result"
    }
   ],
   "source": [
    "data1.isnull().sum()"
   ]
  },
  {
   "cell_type": "code",
   "execution_count": 49,
   "id": "d493a774-9602-43e3-8040-23ca58e47de7",
   "metadata": {},
   "outputs": [
    {
     "data": {
      "text/plain": [
       "title                   0\n",
       "rank                    0\n",
       "date                    0\n",
       "artist                  0\n",
       "url                     0\n",
       "region                  0\n",
       "chart                   0\n",
       "trend                   0\n",
       "streams             11142\n",
       "danceability        30014\n",
       "energy              30014\n",
       "loudness            30014\n",
       "speechiness         30014\n",
       "acousticness        30014\n",
       "instrumentalness    30014\n",
       "liveness            30014\n",
       "valence             30014\n",
       "tempo               30014\n",
       "id                  30014\n",
       "uri                 30014\n",
       "duration_ms         30014\n",
       "time_signature      30014\n",
       "dtype: int64"
      ]
     },
     "execution_count": 49,
     "metadata": {},
     "output_type": "execute_result"
    }
   ],
   "source": [
    "data2.isnull().sum()"
   ]
  },
  {
   "cell_type": "code",
   "execution_count": null,
   "id": "711364b6-a0f2-4e82-887e-886f5a000aa8",
   "metadata": {},
   "outputs": [],
   "source": []
  }
 ],
 "metadata": {
  "kernelspec": {
   "display_name": "PySpark",
   "language": "python",
   "name": "pyspark"
  },
  "language_info": {
   "codemirror_mode": {
    "name": "ipython",
    "version": 3
   },
   "file_extension": ".py",
   "mimetype": "text/x-python",
   "name": "python",
   "nbconvert_exporter": "python",
   "pygments_lexer": "ipython3",
   "version": "3.8.15"
  }
 },
 "nbformat": 4,
 "nbformat_minor": 5
}
