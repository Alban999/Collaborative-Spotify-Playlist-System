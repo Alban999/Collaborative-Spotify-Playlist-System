{
 "cells": [
  {
   "cell_type": "code",
   "execution_count": 3,
   "id": "40cff718-7ad3-414f-9998-7c1641a1151b",
   "metadata": {},
   "outputs": [],
   "source": [
    "# !pip install spotipy"
   ]
  },
  {
   "cell_type": "code",
   "execution_count": 40,
   "id": "481e24eb-543a-482d-8792-02541069f81f",
   "metadata": {},
   "outputs": [],
   "source": [
    "import operator\n",
    "import sys\n",
    "import pyspark\n",
    "from pyspark.sql import SparkSession, types\n",
    "from pyspark import SparkConf, SparkContext\n",
    "import matplotlib.pyplot as plt\n",
    "%matplotlib inline\n",
    "import numpy as np\n",
    "import pandas as pd"
   ]
  },
  {
   "cell_type": "code",
   "execution_count": 20,
   "id": "957173c1-c522-4d95-ac88-8b5e5ce49eb7",
   "metadata": {},
   "outputs": [],
   "source": [
    "CLIENT_ID = 'd3e048fac0e8438cab168ac60459044c'\n",
    "CLIENT_SECRET = '4d47925e9199481fb41cc0c1406de938'"
   ]
  },
  {
   "cell_type": "code",
   "execution_count": 21,
   "id": "7849caa9-d683-47fa-a7d4-f90aea990624",
   "metadata": {},
   "outputs": [],
   "source": [
    "import spotipy\n",
    "from spotipy.oauth2 import SpotifyClientCredentials\n",
    "cid = CLIENT_ID\n",
    "secret = CLIENT_SECRET\n",
    "client_credentials_manager = SpotifyClientCredentials(\n",
    "    client_id=cid, client_secret=secret)\n",
    "sp = spotipy.Spotify(client_credentials_manager=client_credentials_manager)"
   ]
  },
  {
   "cell_type": "code",
   "execution_count": 25,
   "id": "b35d1f4e-169d-4e5f-8c1a-c99b1aaa6ad8",
   "metadata": {},
   "outputs": [],
   "source": [
    "# create lists of columns to be used when reading/merging the csv's\n",
    "columns = ['title', 'rank', 'date', 'artist', 'url', 'region', 'chart', 'trend', 'streams']\n",
    "DATA_PATH = \"gs://big_data_spotify_bucket/charts.csv\"\n",
    "# Spark settings\n",
    "sc = SparkContext.getOrCreate()\n",
    "spark = SparkSession(sc)\n",
    "# sp.audio_features(track_url)[0]"
   ]
  },
  {
   "cell_type": "code",
   "execution_count": 32,
   "id": "10705c76-c1d0-4ff4-8d1a-037ac12c43e3",
   "metadata": {},
   "outputs": [
    {
     "name": "stderr",
     "output_type": "stream",
     "text": [
      "22/12/15 02:47:29 WARN org.apache.spark.sql.execution.CacheManager: Asked to cache already cached data.\n"
     ]
    }
   ],
   "source": [
    "# Load the data, cache this since we're accessing this each iteration\n",
    "data = spark.read.format(\"csv\").option(\"header\", \"true\").load(DATA_PATH).cache()\n",
    "#==============================="
   ]
  },
  {
   "cell_type": "code",
   "execution_count": 58,
   "id": "2087cbde-f5dc-4a24-a063-5fab0316680b",
   "metadata": {},
   "outputs": [
    {
     "name": "stdout",
     "output_type": "stream",
     "text": [
      "root\n",
      " |-- title: string (nullable = true)\n",
      " |-- rank: integer (nullable = true)\n",
      " |-- date: string (nullable = true)\n",
      " |-- artist: string (nullable = true)\n",
      " |-- url: string (nullable = true)\n",
      " |-- region: string (nullable = true)\n",
      " |-- chart: string (nullable = true)\n",
      " |-- trend: string (nullable = true)\n",
      " |-- streams: integer (nullable = true)\n",
      "\n",
      "+--------------------+----+----------+--------------------+--------------------+---------+------+-------------+-------+\n",
      "|               title|rank|      date|              artist|                 url|   region| chart|        trend|streams|\n",
      "+--------------------+----+----------+--------------------+--------------------+---------+------+-------------+-------+\n",
      "|Chantaje (feat. M...|   1|2017-01-01|             Shakira|https://open.spot...|Argentina|top200|SAME_POSITION| 253019|\n",
      "|Vente Pa' Ca (fea...|   2|2017-01-01|        Ricky Martin|https://open.spot...|Argentina|top200|      MOVE_UP| 223988|\n",
      "|Reggaetón Lento (...|   3|2017-01-01|                CNCO|https://open.spot...|Argentina|top200|    MOVE_DOWN| 210943|\n",
      "|              Safari|   4|2017-01-01|J Balvin, Pharrel...|https://open.spot...|Argentina|top200|SAME_POSITION| 173865|\n",
      "|         Shaky Shaky|   5|2017-01-01|        Daddy Yankee|https://open.spot...|Argentina|top200|      MOVE_UP| 153956|\n",
      "|         Traicionera|   6|2017-01-01|     Sebastian Yatra|https://open.spot...|Argentina|top200|    MOVE_DOWN| 151140|\n",
      "|Cuando Se Pone a ...|   7|2017-01-01|              Rombai|https://open.spot...|Argentina|top200|    MOVE_DOWN| 148369|\n",
      "|Otra vez (feat. J...|   8|2017-01-01|       Zion & Lennox|https://open.spot...|Argentina|top200|    MOVE_DOWN| 143004|\n",
      "|        La Bicicleta|   9|2017-01-01|Carlos Vives, Sha...|https://open.spot...|Argentina|top200|      MOVE_UP| 126389|\n",
      "|Dile Que Tu Me Qu...|  10|2017-01-01|               Ozuna|https://open.spot...|Argentina|top200|    MOVE_DOWN| 112012|\n",
      "|  Andas En Mi Cabeza|  11|2017-01-01|Chino & Nacho, Da...|https://open.spot...|Argentina|top200|SAME_POSITION| 110395|\n",
      "|Desde Esa Noche (...|  12|2017-01-01|              Thalia|https://open.spot...|Argentina|top200|      MOVE_UP| 104592|\n",
      "|      Borro Cassette|  13|2017-01-01|              Maluma|https://open.spot...|Argentina|top200|      MOVE_UP| 101535|\n",
      "|Gyal You A Party ...|  14|2017-01-01|Charly Black, Dad...|https://open.spot...|Argentina|top200|    MOVE_DOWN|  99722|\n",
      "|Me llamas (feat. ...|  15|2017-01-01|             Piso 21|https://open.spot...|Argentina|top200|    MOVE_DOWN|  95010|\n",
      "|La Bicicleta (fea...|  16|2017-01-01|Carlos Vives, Sha...|https://open.spot...|Argentina|top200|      MOVE_UP|  92723|\n",
      "|DUELE EL CORAZON ...|  17|2017-01-01|    Enrique Iglesias|https://open.spot...|Argentina|top200|      MOVE_UP|  91325|\n",
      "|     Let Me Love You|  18|2017-01-01|DJ Snake, Justin ...|https://open.spot...|Argentina|top200|    MOVE_DOWN|  87926|\n",
      "|La Noche No Es pa...|  19|2017-01-01|         Mano Arriba|https://open.spot...|Argentina|top200|SAME_POSITION|  87033|\n",
      "|          Vacaciones|  20|2017-01-01|               Wisin|https://open.spot...|Argentina|top200|    MOVE_DOWN|  86103|\n",
      "+--------------------+----+----------+--------------------+--------------------+---------+------+-------------+-------+\n",
      "only showing top 20 rows\n",
      "\n"
     ]
    }
   ],
   "source": [
    "data = data.withColumn(\"rank\", data[\"rank\"].cast(\"int\")).withColumn(\"streams\", data[\"streams\"].cast(\"int\"))\n",
    "data.printSchema()\n",
    "data.show(20)"
   ]
  },
  {
   "cell_type": "code",
   "execution_count": 57,
   "id": "85f3cb71-5cb6-42d5-a6f0-9a44fddff690",
   "metadata": {},
   "outputs": [
    {
     "name": "stdout",
     "output_type": "stream",
     "text": [
      "https://open.spotify.com/track/6mICuAdrwEjh6Y6lroV2Kg\n"
     ]
    },
    {
     "data": {
      "text/plain": [
       "{'danceability': 0.852,\n",
       " 'energy': 0.773,\n",
       " 'key': 8,\n",
       " 'loudness': -2.921,\n",
       " 'mode': 0,\n",
       " 'speechiness': 0.0776,\n",
       " 'acousticness': 0.187,\n",
       " 'instrumentalness': 3.05e-05,\n",
       " 'liveness': 0.159,\n",
       " 'valence': 0.907,\n",
       " 'tempo': 102.034,\n",
       " 'type': 'audio_features',\n",
       " 'id': '6mICuAdrwEjh6Y6lroV2Kg',\n",
       " 'uri': 'spotify:track:6mICuAdrwEjh6Y6lroV2Kg',\n",
       " 'track_href': 'https://api.spotify.com/v1/tracks/6mICuAdrwEjh6Y6lroV2Kg',\n",
       " 'analysis_url': 'https://api.spotify.com/v1/audio-analysis/6mICuAdrwEjh6Y6lroV2Kg',\n",
       " 'duration_ms': 195840,\n",
       " 'time_signature': 4}"
      ]
     },
     "execution_count": 57,
     "metadata": {},
     "output_type": "execute_result"
    }
   ],
   "source": [
    "\n",
    "# data.take(1)\n",
    "url_column = data.select('url')\n",
    "print(url_column.take(1)[0][0])\n",
    "sp.audio_features(url_column.take(1)[0][0])[0]"
   ]
  },
  {
   "cell_type": "code",
   "execution_count": 60,
   "id": "b373a34a-97ab-477b-a469-236b586b7033",
   "metadata": {},
   "outputs": [
    {
     "ename": "SyntaxError",
     "evalue": "invalid syntax (1262584681.py, line 1)",
     "output_type": "error",
     "traceback": [
      "\u001b[0;36m  Cell \u001b[0;32mIn [60], line 1\u001b[0;36m\u001b[0m\n\u001b[0;31m    data.map{row => row.getInt(0)}.first()\u001b[0m\n\u001b[0m            ^\u001b[0m\n\u001b[0;31mSyntaxError\u001b[0m\u001b[0;31m:\u001b[0m invalid syntax\n"
     ]
    }
   ],
   "source": []
  },
  {
   "cell_type": "code",
   "execution_count": 5,
   "id": "fd32a452-7b02-4197-a53f-2599eaf974f2",
   "metadata": {},
   "outputs": [
    {
     "data": {
      "text/plain": [
       "1000"
      ]
     },
     "execution_count": 5,
     "metadata": {},
     "output_type": "execute_result"
    }
   ],
   "source": [
    "artist_popularity = []\n",
    "artist_genres = []\n",
    "artist_followers = []\n",
    "for a_id in track_df.artist_id:\n",
    "  artist = sp.artist(a_id)\n",
    "  artist_popularity.append(artist['popularity'])\n",
    "  artist_genres.append(artist['genres'])\n",
    "  artist_followers.append(artist['followers']['total'])"
   ]
  },
  {
   "cell_type": "code",
   "execution_count": null,
   "id": "db57e5f1-73bc-442c-ab71-ad136920bfd3",
   "metadata": {},
   "outputs": [],
   "source": []
  }
 ],
 "metadata": {
  "kernelspec": {
   "display_name": "PySpark",
   "language": "python",
   "name": "pyspark"
  },
  "language_info": {
   "codemirror_mode": {
    "name": "ipython",
    "version": 3
   },
   "file_extension": ".py",
   "mimetype": "text/x-python",
   "name": "python",
   "nbconvert_exporter": "python",
   "pygments_lexer": "ipython3",
   "version": "3.8.15"
  }
 },
 "nbformat": 4,
 "nbformat_minor": 5
}
