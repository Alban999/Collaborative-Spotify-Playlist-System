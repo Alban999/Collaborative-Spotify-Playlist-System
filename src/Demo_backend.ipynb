{
 "cells": [
  {
   "attachments": {},
   "cell_type": "markdown",
   "metadata": {},
   "source": [
    "# Walkthrough for backend"
   ]
  },
  {
   "attachments": {},
   "cell_type": "markdown",
   "metadata": {},
   "source": [
    "You will need a firestore database authentication file aka a Firebase Admin SDK.\n",
    "Upload this anywhere in the src folder and copy the relative path to the file to SDK_path as shown below"
   ]
  },
  {
   "cell_type": "code",
   "execution_count": 1,
   "metadata": {},
   "outputs": [],
   "source": [
    "#Load SDK\n",
    "import firebase_admin\n",
    "from firebase_admin import credentials, firestore\n",
    "from APIs.backend import *\n",
    "###############################################################################################\n",
    "SDK_path = \"path/to/auth.json\" #Update this!\n",
    "###############################################################################################\n",
    "try:\n",
    "    cred = credentials.Certificate(SDK_path)\n",
    "    firebase_admin.initialize_app(cred)\n",
    "except:\n",
    "    print(\"Already loaded\")\n",
    "db = firestore.client()"
   ]
  },
  {
   "attachments": {},
   "cell_type": "markdown",
   "metadata": {},
   "source": [
    "Within your firestore, you will need to create collections and initiate them with the correct file structure. For playlists structure, see the description of the backend.py's add_playlists function. \n",
    "\n",
    "In our examples, we have 3 collections:\n",
    "- test: A collection of data containing only the feature, 'playlist_name'\n",
    "- playlist_selected: A collection of playlists following the structure described in backend.py's add_playlists\n",
    "- references: A collected of tracks and their features. "
   ]
  },
  {
   "attachments": {},
   "cell_type": "markdown",
   "metadata": {},
   "source": [
    "To read and write, use add_playlists, clear_collection, get_playlists, get_track_ids, or load_reference_data"
   ]
  },
  {
   "attachments": {},
   "cell_type": "markdown",
   "metadata": {},
   "source": [
    "### General: Add playlist to collection or clear collection:\n",
    "The collection that we add to must have the correct structure. In this example, each collection has only 1 feature (the playlist_name) but in the actual setup, we use a nested playlist+song_ids structure. See backend.py for detailed instructions."
   ]
  },
  {
   "cell_type": "code",
   "execution_count": 2,
   "metadata": {},
   "outputs": [
    {
     "name": "stdout",
     "output_type": "stream",
     "text": [
      "Authentication already loaded\n"
     ]
    }
   ],
   "source": [
    "# Add a playlist to an existing collection:\n",
    "test = [{'playlist_name':'1'},{'playlist_name':'c'}] #Playlist to add. Simple case, but can be as complex as needed\n",
    "collection = 'test' #Name of collection to add to\n",
    "add_playlists(test, collection, auth=SDK_path)"
   ]
  },
  {
   "attachments": {},
   "cell_type": "markdown",
   "metadata": {},
   "source": [
    "Let's view what's in our database.\n"
   ]
  },
  {
   "cell_type": "code",
   "execution_count": 3,
   "metadata": {},
   "outputs": [
    {
     "name": "stdout",
     "output_type": "stream",
     "text": [
      "Authentication already loaded\n"
     ]
    },
    {
     "data": {
      "text/plain": [
       "[{'playlist_name': '1'}, {'playlist_name': 'c'}]"
      ]
     },
     "execution_count": 3,
     "metadata": {},
     "output_type": "execute_result"
    }
   ],
   "source": [
    "#Access and view the current tracks\n",
    "data = get_playlists(collection,auth=default_auth_path)\n",
    "data"
   ]
  },
  {
   "cell_type": "code",
   "execution_count": 4,
   "metadata": {},
   "outputs": [
    {
     "name": "stdout",
     "output_type": "stream",
     "text": [
      "Authentication already loaded\n",
      "Deleting Playlist: 1\n",
      "Deleting Playlist: c\n"
     ]
    }
   ],
   "source": [
    "#Clear collection: Lets clear the data we just added\n",
    "collection = 'test' #Name of collection to add to\n",
    "clear_collection(collection)"
   ]
  },
  {
   "attachments": {},
   "cell_type": "markdown",
   "metadata": {},
   "source": [
    "### Specific to this project:\n",
    "This project has a predefined dictionary storage system for each playlist. This is defined in backend.py.\n",
    "The following functions depend on this structure and will fail otherwise:\n",
    "\n",
    "get_track_ids, or load_reference_data\n",
    "\n",
    "- The collection, 'playlist_selected' is a collection of playlist objects as previously described.\n",
    "- The collection, 'reference' is a set of saved track features. This is the set choose from when creating new playlist"
   ]
  },
  {
   "cell_type": "code",
   "execution_count": 16,
   "metadata": {},
   "outputs": [
    {
     "name": "stdout",
     "output_type": "stream",
     "text": [
      "Authentication already loaded\n",
      "Playlists \n",
      " {'playlist_id': '1', 'playlist_name': '1', 'playlist_img_url': '1', 'playlist_tracks_url': '1', 'playlist_url': '1', 'playlist_tracks': [{'track_url': 'd', 'track_id': '5', 'track_artist': 'a', 'track_image': 'c', 'track_name': 'b'}, {'track_image': 'c2', 'track_id': '10', 'track_artist': 'a2', 'track_url': 'd2', 'track_name': 'b2'}]}\n",
      "Song ids:['5', '10']\n"
     ]
    }
   ],
   "source": [
    "#get_track_ids\n",
    "\n",
    "# We first get the playlists returned by get_playlists. Then we feed that into get_track_ids.\n",
    "collection = 'playlists_selected'\n",
    "playlists = get_playlists(collection)\n",
    "print('Playlists \\n', playlists[0]) # Lets view the first playlist in playlists\n",
    "\n",
    "# Lets get all the ids of songs in these playlist. Repeats are not included\n",
    "ids = get_track_ids(playlists)\n",
    "print(\"Song ids:{}\".format(ids ))\n"
   ]
  },
  {
   "cell_type": "code",
   "execution_count": 12,
   "metadata": {},
   "outputs": [
    {
     "name": "stdout",
     "output_type": "stream",
     "text": [
      "Authentication already loaded\n"
     ]
    },
    {
     "data": {
      "text/html": [
       "<div>\n",
       "<style scoped>\n",
       "    .dataframe tbody tr th:only-of-type {\n",
       "        vertical-align: middle;\n",
       "    }\n",
       "\n",
       "    .dataframe tbody tr th {\n",
       "        vertical-align: top;\n",
       "    }\n",
       "\n",
       "    .dataframe thead th {\n",
       "        text-align: right;\n",
       "    }\n",
       "</style>\n",
       "<table border=\"1\" class=\"dataframe\">\n",
       "  <thead>\n",
       "    <tr style=\"text-align: right;\">\n",
       "      <th></th>\n",
       "      <th>tempo</th>\n",
       "    </tr>\n",
       "  </thead>\n",
       "  <tbody>\n",
       "    <tr>\n",
       "      <th>0</th>\n",
       "      <td>113.756</td>\n",
       "    </tr>\n",
       "    <tr>\n",
       "      <th>0</th>\n",
       "      <td>178.258</td>\n",
       "    </tr>\n",
       "    <tr>\n",
       "      <th>0</th>\n",
       "      <td>93.973</td>\n",
       "    </tr>\n",
       "    <tr>\n",
       "      <th>0</th>\n",
       "      <td>95.902</td>\n",
       "    </tr>\n",
       "    <tr>\n",
       "      <th>0</th>\n",
       "      <td>86.867</td>\n",
       "    </tr>\n",
       "  </tbody>\n",
       "</table>\n",
       "</div>"
      ],
      "text/plain": [
       "     tempo\n",
       "0  113.756\n",
       "0  178.258\n",
       "0   93.973\n",
       "0   95.902\n",
       "0   86.867"
      ]
     },
     "execution_count": 12,
     "metadata": {},
     "output_type": "execute_result"
    }
   ],
   "source": [
    "#load_reference_data\n",
    "collection = 'references' \n",
    "num_tracks = 10 #how many tracks we get\n",
    "sort_by = None #sort data before accessing. Note this means we get the top points by this metric. ex sort_by = 'tempo'\n",
    "auth = SDK_path\n",
    "selected_features = ['tempo'] #The features we want to be returned\n",
    "df = load_reference_data(collection,num_tracks,sort_by,auth, selected_features)\n",
    "df.head()"
   ]
  },
  {
   "attachments": {},
   "cell_type": "markdown",
   "metadata": {},
   "source": [
    "# Walkthrough of preprocess:\n",
    "Below, replace the client_id and client_secret with your spotify developer info"
   ]
  },
  {
   "cell_type": "code",
   "execution_count": 13,
   "metadata": {},
   "outputs": [
    {
     "name": "stderr",
     "output_type": "stream",
     "text": [
      "c:\\D_drive\\Columbia 2022\\Big data\\Project\\spotify-big-data-project\\src\\preprocess.py:25: FutureWarning: The frame.append method is deprecated and will be removed from pandas in a future version. Use pandas.concat instead.\n",
      "  tf_df = tf_df.append(feat, ignore_index=True)\n"
     ]
    },
    {
     "data": {
      "text/html": [
       "<div>\n",
       "<style scoped>\n",
       "    .dataframe tbody tr th:only-of-type {\n",
       "        vertical-align: middle;\n",
       "    }\n",
       "\n",
       "    .dataframe tbody tr th {\n",
       "        vertical-align: top;\n",
       "    }\n",
       "\n",
       "    .dataframe thead th {\n",
       "        text-align: right;\n",
       "    }\n",
       "</style>\n",
       "<table border=\"1\" class=\"dataframe\">\n",
       "  <thead>\n",
       "    <tr style=\"text-align: right;\">\n",
       "      <th></th>\n",
       "      <th>acousticness</th>\n",
       "      <th>danceability</th>\n",
       "      <th>duration_ms</th>\n",
       "      <th>energy</th>\n",
       "      <th>instrumentalness</th>\n",
       "      <th>key</th>\n",
       "      <th>liveness</th>\n",
       "      <th>loudness</th>\n",
       "      <th>mode</th>\n",
       "      <th>speechiness</th>\n",
       "      <th>tempo</th>\n",
       "      <th>valence</th>\n",
       "    </tr>\n",
       "  </thead>\n",
       "  <tbody>\n",
       "    <tr>\n",
       "      <th>0</th>\n",
       "      <td>0.0252</td>\n",
       "      <td>0.386</td>\n",
       "      <td>271520</td>\n",
       "      <td>0.594</td>\n",
       "      <td>0.000003</td>\n",
       "      <td>1</td>\n",
       "      <td>0.0873</td>\n",
       "      <td>-6.186</td>\n",
       "      <td>1</td>\n",
       "      <td>0.0566</td>\n",
       "      <td>113.756</td>\n",
       "      <td>0.187</td>\n",
       "    </tr>\n",
       "  </tbody>\n",
       "</table>\n",
       "</div>"
      ],
      "text/plain": [
       "   acousticness  danceability duration_ms  energy  instrumentalness key  \\\n",
       "0        0.0252         0.386      271520   0.594          0.000003   1   \n",
       "\n",
       "   liveness  loudness mode  speechiness    tempo  valence  \n",
       "0    0.0873    -6.186    1       0.0566  113.756    0.187  "
      ]
     },
     "execution_count": 13,
     "metadata": {},
     "output_type": "execute_result"
    }
   ],
   "source": [
    "from preprocess import *\n",
    "ids = [\"31MkGwj0SWgZaTvEt5Hgxv\"] # Example song id\n",
    "client_id = \"\" # REPLACE THIS WITH YOUR OWN\n",
    "client_secret = \"\" #REPLACE WITH YOUR OWN\n",
    "df = get_features_from_ids(ids, client_id, client_secret)\n",
    "df.head()"
   ]
  },
  {
   "cell_type": "code",
   "execution_count": null,
   "metadata": {},
   "outputs": [],
   "source": []
  }
 ],
 "metadata": {
  "kernelspec": {
   "display_name": "Python 3",
   "language": "python",
   "name": "python3"
  },
  "language_info": {
   "codemirror_mode": {
    "name": "ipython",
    "version": 3
   },
   "file_extension": ".py",
   "mimetype": "text/x-python",
   "name": "python",
   "nbconvert_exporter": "python",
   "pygments_lexer": "ipython3",
   "version": "3.9.13 (tags/v3.9.13:6de2ca5, May 17 2022, 16:36:42) [MSC v.1929 64 bit (AMD64)]"
  },
  "orig_nbformat": 4,
  "vscode": {
   "interpreter": {
    "hash": "08e595c52ca3b9470036b1110e67b559e55f367cabc363f2e28d35631ed95060"
   }
  }
 },
 "nbformat": 4,
 "nbformat_minor": 2
}
