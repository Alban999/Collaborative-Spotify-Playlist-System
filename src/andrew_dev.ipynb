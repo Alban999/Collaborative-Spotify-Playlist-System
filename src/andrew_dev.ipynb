{
 "cells": [
  {
   "cell_type": "markdown",
   "metadata": {},
   "source": [
    "## STEP1: Connect to spotify account using spotify API\n"
   ]
  },
  {
   "cell_type": "code",
   "execution_count": 2,
   "metadata": {},
   "outputs": [],
   "source": [
    "\n",
    "\n"
   ]
  },
  {
   "cell_type": "code",
   "execution_count": 3,
   "metadata": {},
   "outputs": [],
   "source": [
    "import spotipy\n",
    "from spotipy.oauth2 import SpotifyClientCredentials\n",
    "cid = client_id\n",
    "secret = client_secret\n",
    "client_credentials_manager = SpotifyClientCredentials(client_id=cid, client_secret=secret)\n",
    "sp = spotipy.Spotify(client_credentials_manager\n",
    "=\n",
    "client_credentials_manager)"
   ]
  },
  {
   "cell_type": "code",
   "execution_count": 4,
   "metadata": {},
   "outputs": [],
   "source": [
    "artist_name = []\n",
    "track_name = []\n",
    "popularity = []\n",
    "track_id = []\n",
    "for i in range(0,100,1):\n",
    "    track_results = sp.search(q='year:2018', type='track', limit=50,offset=i)\n",
    "    for i, t in enumerate(track_results['tracks']['items']):\n",
    "        artist_name.append(t['artists'][0]['name'])\n",
    "        track_name.append(t['name'])\n",
    "        track_id.append(t['id'])\n",
    "        popularity.append(t['popularity'])"
   ]
  },
  {
   "cell_type": "code",
   "execution_count": 6,
   "metadata": {},
   "outputs": [
    {
     "name": "stdout",
     "output_type": "stream",
     "text": [
      "(5000, 4)\n"
     ]
    }
   ],
   "source": [
    "import pandas as pd\n",
    "track_dataframe = pd.DataFrame({'artist_name' : artist_name, 'track_name' : track_name, 'track_id' : track_id, 'popularity' : popularity})\n",
    "print(track_dataframe.shape)\n",
    "track_dataframe.head()\n",
    "df = track_dataframe"
   ]
  },
  {
   "cell_type": "code",
   "execution_count": 8,
   "metadata": {},
   "outputs": [
    {
     "data": {
      "text/html": [
       "<div>\n",
       "<style scoped>\n",
       "    .dataframe tbody tr th:only-of-type {\n",
       "        vertical-align: middle;\n",
       "    }\n",
       "\n",
       "    .dataframe tbody tr th {\n",
       "        vertical-align: top;\n",
       "    }\n",
       "\n",
       "    .dataframe thead th {\n",
       "        text-align: right;\n",
       "    }\n",
       "</style>\n",
       "<table border=\"1\" class=\"dataframe\">\n",
       "  <thead>\n",
       "    <tr style=\"text-align: right;\">\n",
       "      <th></th>\n",
       "      <th>artist_name</th>\n",
       "      <th>track_name</th>\n",
       "      <th>track_id</th>\n",
       "      <th>popularity</th>\n",
       "    </tr>\n",
       "  </thead>\n",
       "  <tbody>\n",
       "    <tr>\n",
       "      <th>3</th>\n",
       "      <td>The Weeknd</td>\n",
       "      <td>I Was Never There</td>\n",
       "      <td>1cKHdTo9u0ZymJdPGSh6nq</td>\n",
       "      <td>89</td>\n",
       "    </tr>\n",
       "    <tr>\n",
       "      <th>150</th>\n",
       "      <td>The Weeknd</td>\n",
       "      <td>I Was Never There</td>\n",
       "      <td>1cKHdTo9u0ZymJdPGSh6nq</td>\n",
       "      <td>89</td>\n",
       "    </tr>\n",
       "    <tr>\n",
       "      <th>52</th>\n",
       "      <td>The Weeknd</td>\n",
       "      <td>I Was Never There</td>\n",
       "      <td>1cKHdTo9u0ZymJdPGSh6nq</td>\n",
       "      <td>89</td>\n",
       "    </tr>\n",
       "    <tr>\n",
       "      <th>101</th>\n",
       "      <td>The Weeknd</td>\n",
       "      <td>I Was Never There</td>\n",
       "      <td>1cKHdTo9u0ZymJdPGSh6nq</td>\n",
       "      <td>89</td>\n",
       "    </tr>\n",
       "    <tr>\n",
       "      <th>201</th>\n",
       "      <td>The Weeknd</td>\n",
       "      <td>Call Out My Name</td>\n",
       "      <td>09mEdoA6zrmBPgTEN5qXmN</td>\n",
       "      <td>88</td>\n",
       "    </tr>\n",
       "    <tr>\n",
       "      <th>...</th>\n",
       "      <td>...</td>\n",
       "      <td>...</td>\n",
       "      <td>...</td>\n",
       "      <td>...</td>\n",
       "    </tr>\n",
       "    <tr>\n",
       "      <th>4836</th>\n",
       "      <td>AJR</td>\n",
       "      <td>Burn The House Down</td>\n",
       "      <td>0TkJIyL69RAUIbNwGub6uR</td>\n",
       "      <td>68</td>\n",
       "    </tr>\n",
       "    <tr>\n",
       "      <th>4689</th>\n",
       "      <td>AJR</td>\n",
       "      <td>Burn The House Down</td>\n",
       "      <td>0TkJIyL69RAUIbNwGub6uR</td>\n",
       "      <td>68</td>\n",
       "    </tr>\n",
       "    <tr>\n",
       "      <th>4885</th>\n",
       "      <td>AJR</td>\n",
       "      <td>Burn The House Down</td>\n",
       "      <td>0TkJIyL69RAUIbNwGub6uR</td>\n",
       "      <td>68</td>\n",
       "    </tr>\n",
       "    <tr>\n",
       "      <th>4493</th>\n",
       "      <td>AJR</td>\n",
       "      <td>Burn The House Down</td>\n",
       "      <td>0TkJIyL69RAUIbNwGub6uR</td>\n",
       "      <td>68</td>\n",
       "    </tr>\n",
       "    <tr>\n",
       "      <th>4199</th>\n",
       "      <td>AJR</td>\n",
       "      <td>Burn The House Down</td>\n",
       "      <td>0TkJIyL69RAUIbNwGub6uR</td>\n",
       "      <td>68</td>\n",
       "    </tr>\n",
       "  </tbody>\n",
       "</table>\n",
       "<p>5000 rows × 4 columns</p>\n",
       "</div>"
      ],
      "text/plain": [
       "     artist_name           track_name                track_id  popularity\n",
       "3     The Weeknd    I Was Never There  1cKHdTo9u0ZymJdPGSh6nq          89\n",
       "150   The Weeknd    I Was Never There  1cKHdTo9u0ZymJdPGSh6nq          89\n",
       "52    The Weeknd    I Was Never There  1cKHdTo9u0ZymJdPGSh6nq          89\n",
       "101   The Weeknd    I Was Never There  1cKHdTo9u0ZymJdPGSh6nq          89\n",
       "201   The Weeknd     Call Out My Name  09mEdoA6zrmBPgTEN5qXmN          88\n",
       "...          ...                  ...                     ...         ...\n",
       "4836         AJR  Burn The House Down  0TkJIyL69RAUIbNwGub6uR          68\n",
       "4689         AJR  Burn The House Down  0TkJIyL69RAUIbNwGub6uR          68\n",
       "4885         AJR  Burn The House Down  0TkJIyL69RAUIbNwGub6uR          68\n",
       "4493         AJR  Burn The House Down  0TkJIyL69RAUIbNwGub6uR          68\n",
       "4199         AJR  Burn The House Down  0TkJIyL69RAUIbNwGub6uR          68\n",
       "\n",
       "[5000 rows x 4 columns]"
      ]
     },
     "execution_count": 8,
     "metadata": {},
     "output_type": "execute_result"
    }
   ],
   "source": [
    "df.sort_values(by=['popularity'], ascending=False)"
   ]
  },
  {
   "cell_type": "code",
   "execution_count": null,
   "metadata": {},
   "outputs": [],
   "source": []
  }
 ],
 "metadata": {
  "kernelspec": {
   "display_name": "Python 3.9.0 64-bit",
   "language": "python",
   "name": "python3"
  },
  "language_info": {
   "codemirror_mode": {
    "name": "ipython",
    "version": 3
   },
   "file_extension": ".py",
   "mimetype": "text/x-python",
   "name": "python",
   "nbconvert_exporter": "python",
   "pygments_lexer": "ipython3",
   "version": "3.9.0"
  },
  "orig_nbformat": 4,
  "vscode": {
   "interpreter": {
    "hash": "08e595c52ca3b9470036b1110e67b559e55f367cabc363f2e28d35631ed95060"
   }
  }
 },
 "nbformat": 4,
 "nbformat_minor": 2
}
