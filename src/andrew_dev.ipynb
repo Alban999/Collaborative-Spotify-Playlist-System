{
 "cells": [
  {
   "cell_type": "markdown",
   "metadata": {},
   "source": [
    "# Spotipy dev\n",
    "###  <font color='cyan'>TO DO</font> Update \"client_id\", \"client_secret\" as described in block below and add \"http://localhost\" to your URI redirect in spotify dev"
   ]
  },
  {
   "cell_type": "code",
   "execution_count": 1,
   "metadata": {},
   "outputs": [],
   "source": [
    "#SETUP authentication. Run this before anything\n",
    "\n",
    "\n",
    "##############\n",
    "#To do\n",
    "client_id = \"3e6ce8e4fade4a9199c6031f623338c4\" # REPLACE THIS WITH YOUR OWN\n",
    "client_secret = \"adaa590a01f44864ac51f6aed29993df\" #REPLACE WITH YOUR OWN\n",
    "##############\n",
    "\n",
    "\n",
    "\n",
    "SPOTIPY_CLIENT_ID = client_id\n",
    "SPOTIPY_CLIENT_SECRET = client_secret\n",
    "\n",
    "import os\n",
    "os.environ[\"SPOTIPY_CLIENT_SECRET\"] = client_secret\n",
    "os.environ[\"SPOTIPY_CLIENT_ID\"] = client_id\n",
    "os.environ[\"SPOTIPY_REDIRECT_URI\"] = \"http://localhost\" #Add this to the URI redirect: SEE \"https://community.spotify.com/t5/Spotify-for-Developers/Redirect-URI-needed/td-p/5067419\"  and https://community.spotify.com/t5/Spotify-for-Developers/INVALID-CLIENT-Invalid-redirect-URI/td-p/5228936\n"
   ]
  },
  {
   "cell_type": "markdown",
   "metadata": {},
   "source": [
    "## STEP1: Connect to spotify and search song data base\n"
   ]
  },
  {
   "cell_type": "code",
   "execution_count": 2,
   "metadata": {},
   "outputs": [],
   "source": [
    "import spotipy\n",
    "from spotipy.oauth2 import SpotifyClientCredentials\n",
    "\n",
    "cid = client_id\n",
    "secret = client_secret\n",
    "client_credentials_manager = SpotifyClientCredentials(client_id=cid, client_secret=secret)\n",
    "sp = spotipy.Spotify(client_credentials_manager\n",
    "=\n",
    "client_credentials_manager)"
   ]
  },
  {
   "cell_type": "code",
   "execution_count": 8,
   "metadata": {},
   "outputs": [],
   "source": [
    "artist_name = []\n",
    "track_name = []\n",
    "popularity = []\n",
    "track_id = []\n",
    "for i in range(0,1000,50):\n",
    "    track_results = sp.search(q='year:2018', type='track', limit=50,offset=i)\n",
    "    for i, t in enumerate(track_results['tracks']['items']):\n",
    "        artist_name.append(t['artists'][0]['name'])\n",
    "        track_name.append(t['name'])\n",
    "        track_id.append(t['id'])\n",
    "        popularity.append(t['popularity'])"
   ]
  },
  {
   "cell_type": "code",
   "execution_count": 9,
   "metadata": {},
   "outputs": [
    {
     "name": "stdout",
     "output_type": "stream",
     "text": [
      "(1000, 4)\n"
     ]
    }
   ],
   "source": [
    "import pandas as pd\n",
    "track_dataframe = pd.DataFrame({'artist_name' : artist_name, 'track_name' : track_name, 'track_id' : track_id, 'popularity' : popularity})\n",
    "print(track_dataframe.shape)\n",
    "track_dataframe.head()\n",
    "df = track_dataframe"
   ]
  },
  {
   "cell_type": "code",
   "execution_count": 10,
   "metadata": {},
   "outputs": [
    {
     "data": {
      "text/html": [
       "<div>\n",
       "<style scoped>\n",
       "    .dataframe tbody tr th:only-of-type {\n",
       "        vertical-align: middle;\n",
       "    }\n",
       "\n",
       "    .dataframe tbody tr th {\n",
       "        vertical-align: top;\n",
       "    }\n",
       "\n",
       "    .dataframe thead th {\n",
       "        text-align: right;\n",
       "    }\n",
       "</style>\n",
       "<table border=\"1\" class=\"dataframe\">\n",
       "  <thead>\n",
       "    <tr style=\"text-align: right;\">\n",
       "      <th></th>\n",
       "      <th>artist_name</th>\n",
       "      <th>track_name</th>\n",
       "      <th>track_id</th>\n",
       "      <th>popularity</th>\n",
       "    </tr>\n",
       "  </thead>\n",
       "  <tbody>\n",
       "    <tr>\n",
       "      <th>11</th>\n",
       "      <td>Billie Eilish</td>\n",
       "      <td>lovely (with Khalid)</td>\n",
       "      <td>0u2P5u6lvoDfwTYjAADbn4</td>\n",
       "      <td>89</td>\n",
       "    </tr>\n",
       "    <tr>\n",
       "      <th>3</th>\n",
       "      <td>The Weeknd</td>\n",
       "      <td>I Was Never There</td>\n",
       "      <td>1cKHdTo9u0ZymJdPGSh6nq</td>\n",
       "      <td>89</td>\n",
       "    </tr>\n",
       "    <tr>\n",
       "      <th>6</th>\n",
       "      <td>The Weeknd</td>\n",
       "      <td>Call Out My Name</td>\n",
       "      <td>09mEdoA6zrmBPgTEN5qXmN</td>\n",
       "      <td>88</td>\n",
       "    </tr>\n",
       "    <tr>\n",
       "      <th>69</th>\n",
       "      <td>Calvin Harris</td>\n",
       "      <td>One Kiss (with Dua Lipa)</td>\n",
       "      <td>7ef4DlsgrMEH11cDZd32M6</td>\n",
       "      <td>87</td>\n",
       "    </tr>\n",
       "    <tr>\n",
       "      <th>15</th>\n",
       "      <td>The Neighbourhood</td>\n",
       "      <td>Softcore</td>\n",
       "      <td>2K7xn816oNHJZ0aVqdQsha</td>\n",
       "      <td>86</td>\n",
       "    </tr>\n",
       "    <tr>\n",
       "      <th>...</th>\n",
       "      <td>...</td>\n",
       "      <td>...</td>\n",
       "      <td>...</td>\n",
       "      <td>...</td>\n",
       "    </tr>\n",
       "    <tr>\n",
       "      <th>930</th>\n",
       "      <td>Craig Campbell</td>\n",
       "      <td>Outskirts of Heaven</td>\n",
       "      <td>6gcNSi6b9gvDBjYO059lrF</td>\n",
       "      <td>58</td>\n",
       "    </tr>\n",
       "    <tr>\n",
       "      <th>948</th>\n",
       "      <td>Jason Aldean</td>\n",
       "      <td>Rearview Town</td>\n",
       "      <td>5WA2SHuL5eesmPnYflNzlT</td>\n",
       "      <td>58</td>\n",
       "    </tr>\n",
       "    <tr>\n",
       "      <th>995</th>\n",
       "      <td>Five Finger Death Punch</td>\n",
       "      <td>Sham Pain</td>\n",
       "      <td>1YLxrvfvFivQj7eh3Y5yxA</td>\n",
       "      <td>58</td>\n",
       "    </tr>\n",
       "    <tr>\n",
       "      <th>953</th>\n",
       "      <td>Phil Wickham</td>\n",
       "      <td>Living Hope</td>\n",
       "      <td>6nVm313QmsPlNllntTart1</td>\n",
       "      <td>58</td>\n",
       "    </tr>\n",
       "    <tr>\n",
       "      <th>896</th>\n",
       "      <td>Riley Green</td>\n",
       "      <td>Bury Me In Dixie</td>\n",
       "      <td>7KFbFqfBxqRtSSwkA874iv</td>\n",
       "      <td>58</td>\n",
       "    </tr>\n",
       "  </tbody>\n",
       "</table>\n",
       "<p>1000 rows × 4 columns</p>\n",
       "</div>"
      ],
      "text/plain": [
       "                 artist_name                track_name  \\\n",
       "11             Billie Eilish      lovely (with Khalid)   \n",
       "3                 The Weeknd         I Was Never There   \n",
       "6                 The Weeknd          Call Out My Name   \n",
       "69             Calvin Harris  One Kiss (with Dua Lipa)   \n",
       "15         The Neighbourhood                  Softcore   \n",
       "..                       ...                       ...   \n",
       "930           Craig Campbell       Outskirts of Heaven   \n",
       "948             Jason Aldean             Rearview Town   \n",
       "995  Five Finger Death Punch                 Sham Pain   \n",
       "953             Phil Wickham               Living Hope   \n",
       "896              Riley Green          Bury Me In Dixie   \n",
       "\n",
       "                   track_id  popularity  \n",
       "11   0u2P5u6lvoDfwTYjAADbn4          89  \n",
       "3    1cKHdTo9u0ZymJdPGSh6nq          89  \n",
       "6    09mEdoA6zrmBPgTEN5qXmN          88  \n",
       "69   7ef4DlsgrMEH11cDZd32M6          87  \n",
       "15   2K7xn816oNHJZ0aVqdQsha          86  \n",
       "..                      ...         ...  \n",
       "930  6gcNSi6b9gvDBjYO059lrF          58  \n",
       "948  5WA2SHuL5eesmPnYflNzlT          58  \n",
       "995  1YLxrvfvFivQj7eh3Y5yxA          58  \n",
       "953  6nVm313QmsPlNllntTart1          58  \n",
       "896  7KFbFqfBxqRtSSwkA874iv          58  \n",
       "\n",
       "[1000 rows x 4 columns]"
      ]
     },
     "execution_count": 10,
     "metadata": {},
     "output_type": "execute_result"
    }
   ],
   "source": [
    "df.sort_values(by=['popularity'], ascending=False)"
   ]
  },
  {
   "cell_type": "markdown",
   "metadata": {},
   "source": [
    "## STEP 2: Access music in liked songs\n",
    "Look out for TO DO comments to replace variables"
   ]
  },
  {
   "cell_type": "code",
   "execution_count": 3,
   "metadata": {},
   "outputs": [],
   "source": [
    "# Test initial access:\n",
    "import spotipy\n",
    "from spotipy.oauth2 import SpotifyOAuth\n",
    "\n",
    "scope = \"user-library-read\"\n",
    "sp = spotipy.Spotify(auth_manager=SpotifyOAuth(scope=scope,redirect_uri='http://localhost:8888', cache_path='../cache.txt'))\n",
    "results = sp.current_user_saved_tracks(limit = 10)\n",
    "for idx, item in enumerate(results['items']):\n",
    "    track = item['track']\n",
    "    print(idx, track['artists'][0]['name'], \" – \", track['name'])"
   ]
  },
  {
   "cell_type": "markdown",
   "metadata": {},
   "source": [
    "###  <font color='cyan'>TO DO</font> Update \"num_songs\" as described in block below"
   ]
  },
  {
   "cell_type": "code",
   "execution_count": 3,
   "metadata": {},
   "outputs": [
    {
     "name": "stderr",
     "output_type": "stream",
     "text": [
      "HTTP Error for GET to https://api.spotify.com/v1/me/tracks with Params: {'limit': 50, 'offset': 0, 'market': None} returned 401 due to Missing token\n"
     ]
    },
    {
     "ename": "SpotifyException",
     "evalue": "http status: 401, code:-1 - https://api.spotify.com/v1/me/tracks?limit=50&offset=0:\n Missing token, reason: None",
     "output_type": "error",
     "traceback": [
      "\u001b[1;31m---------------------------------------------------------------------------\u001b[0m",
      "\u001b[1;31mHTTPError\u001b[0m                                 Traceback (most recent call last)",
      "File \u001b[1;32mc:\\Users\\andre\\AppData\\Local\\Programs\\Python\\Python39\\lib\\site-packages\\spotipy\\client.py:245\u001b[0m, in \u001b[0;36mSpotify._internal_call\u001b[1;34m(self, method, url, payload, params)\u001b[0m\n\u001b[0;32m    240\u001b[0m response \u001b[39m=\u001b[39m \u001b[39mself\u001b[39m\u001b[39m.\u001b[39m_session\u001b[39m.\u001b[39mrequest(\n\u001b[0;32m    241\u001b[0m     method, url, headers\u001b[39m=\u001b[39mheaders, proxies\u001b[39m=\u001b[39m\u001b[39mself\u001b[39m\u001b[39m.\u001b[39mproxies,\n\u001b[0;32m    242\u001b[0m     timeout\u001b[39m=\u001b[39m\u001b[39mself\u001b[39m\u001b[39m.\u001b[39mrequests_timeout, \u001b[39m*\u001b[39m\u001b[39m*\u001b[39margs\n\u001b[0;32m    243\u001b[0m )\n\u001b[1;32m--> 245\u001b[0m response\u001b[39m.\u001b[39;49mraise_for_status()\n\u001b[0;32m    246\u001b[0m results \u001b[39m=\u001b[39m response\u001b[39m.\u001b[39mjson()\n",
      "File \u001b[1;32mc:\\Users\\andre\\AppData\\Local\\Programs\\Python\\Python39\\lib\\site-packages\\requests\\models.py:1021\u001b[0m, in \u001b[0;36mResponse.raise_for_status\u001b[1;34m(self)\u001b[0m\n\u001b[0;32m   1020\u001b[0m \u001b[39mif\u001b[39;00m http_error_msg:\n\u001b[1;32m-> 1021\u001b[0m     \u001b[39mraise\u001b[39;00m HTTPError(http_error_msg, response\u001b[39m=\u001b[39m\u001b[39mself\u001b[39m)\n",
      "\u001b[1;31mHTTPError\u001b[0m: 401 Client Error: Unauthorized for url: https://api.spotify.com/v1/me/tracks?limit=50&offset=0",
      "\nDuring handling of the above exception, another exception occurred:\n",
      "\u001b[1;31mSpotifyException\u001b[0m                          Traceback (most recent call last)",
      "Cell \u001b[1;32mIn[3], line 16\u001b[0m\n\u001b[0;32m     11\u001b[0m \u001b[39m#######################\u001b[39;00m\n\u001b[0;32m     15\u001b[0m \u001b[39mfor\u001b[39;00m i \u001b[39min\u001b[39;00m \u001b[39mrange\u001b[39m(\u001b[39m0\u001b[39m,num_songs ,\u001b[39m50\u001b[39m):\n\u001b[1;32m---> 16\u001b[0m     results \u001b[39m=\u001b[39m sp\u001b[39m.\u001b[39;49mcurrent_user_saved_tracks(limit\u001b[39m=\u001b[39;49m\u001b[39m50\u001b[39;49m,offset\u001b[39m=\u001b[39;49mi)\n\u001b[0;32m     17\u001b[0m     \u001b[39m# track = item['track']\u001b[39;00m\n\u001b[0;32m     18\u001b[0m     \u001b[39mfor\u001b[39;00m idx, item \u001b[39min\u001b[39;00m \u001b[39menumerate\u001b[39m(results[\u001b[39m'\u001b[39m\u001b[39mitems\u001b[39m\u001b[39m'\u001b[39m]):\n",
      "File \u001b[1;32mc:\\Users\\andre\\AppData\\Local\\Programs\\Python\\Python39\\lib\\site-packages\\spotipy\\client.py:1241\u001b[0m, in \u001b[0;36mSpotify.current_user_saved_tracks\u001b[1;34m(self, limit, offset, market)\u001b[0m\n\u001b[0;32m   1231\u001b[0m \u001b[39mdef\u001b[39;00m \u001b[39mcurrent_user_saved_tracks\u001b[39m(\u001b[39mself\u001b[39m, limit\u001b[39m=\u001b[39m\u001b[39m20\u001b[39m, offset\u001b[39m=\u001b[39m\u001b[39m0\u001b[39m, market\u001b[39m=\u001b[39m\u001b[39mNone\u001b[39;00m):\n\u001b[0;32m   1232\u001b[0m     \u001b[39m\"\"\" Gets a list of the tracks saved in the current authorized user's\u001b[39;00m\n\u001b[0;32m   1233\u001b[0m \u001b[39m        \"Your Music\" library\u001b[39;00m\n\u001b[0;32m   1234\u001b[0m \n\u001b[1;32m   (...)\u001b[0m\n\u001b[0;32m   1239\u001b[0m \n\u001b[0;32m   1240\u001b[0m \u001b[39m    \"\"\"\u001b[39;00m\n\u001b[1;32m-> 1241\u001b[0m     \u001b[39mreturn\u001b[39;00m \u001b[39mself\u001b[39;49m\u001b[39m.\u001b[39;49m_get(\u001b[39m\"\u001b[39;49m\u001b[39mme/tracks\u001b[39;49m\u001b[39m\"\u001b[39;49m, limit\u001b[39m=\u001b[39;49mlimit, offset\u001b[39m=\u001b[39;49moffset, market\u001b[39m=\u001b[39;49mmarket)\n",
      "File \u001b[1;32mc:\\Users\\andre\\AppData\\Local\\Programs\\Python\\Python39\\lib\\site-packages\\spotipy\\client.py:297\u001b[0m, in \u001b[0;36mSpotify._get\u001b[1;34m(self, url, args, payload, **kwargs)\u001b[0m\n\u001b[0;32m    294\u001b[0m \u001b[39mif\u001b[39;00m args:\n\u001b[0;32m    295\u001b[0m     kwargs\u001b[39m.\u001b[39mupdate(args)\n\u001b[1;32m--> 297\u001b[0m \u001b[39mreturn\u001b[39;00m \u001b[39mself\u001b[39;49m\u001b[39m.\u001b[39;49m_internal_call(\u001b[39m\"\u001b[39;49m\u001b[39mGET\u001b[39;49m\u001b[39m\"\u001b[39;49m, url, payload, kwargs)\n",
      "File \u001b[1;32mc:\\Users\\andre\\AppData\\Local\\Programs\\Python\\Python39\\lib\\site-packages\\spotipy\\client.py:267\u001b[0m, in \u001b[0;36mSpotify._internal_call\u001b[1;34m(self, method, url, payload, params)\u001b[0m\n\u001b[0;32m    260\u001b[0m         reason \u001b[39m=\u001b[39m \u001b[39mNone\u001b[39;00m\n\u001b[0;32m    262\u001b[0m     logger\u001b[39m.\u001b[39merror(\n\u001b[0;32m    263\u001b[0m         \u001b[39m'\u001b[39m\u001b[39mHTTP Error for \u001b[39m\u001b[39m%s\u001b[39;00m\u001b[39m to \u001b[39m\u001b[39m%s\u001b[39;00m\u001b[39m with Params: \u001b[39m\u001b[39m%s\u001b[39;00m\u001b[39m returned \u001b[39m\u001b[39m%s\u001b[39;00m\u001b[39m due to \u001b[39m\u001b[39m%s\u001b[39;00m\u001b[39m'\u001b[39m,\n\u001b[0;32m    264\u001b[0m         method, url, args\u001b[39m.\u001b[39mget(\u001b[39m\"\u001b[39m\u001b[39mparams\u001b[39m\u001b[39m\"\u001b[39m), response\u001b[39m.\u001b[39mstatus_code, msg\n\u001b[0;32m    265\u001b[0m     )\n\u001b[1;32m--> 267\u001b[0m     \u001b[39mraise\u001b[39;00m SpotifyException(\n\u001b[0;32m    268\u001b[0m         response\u001b[39m.\u001b[39mstatus_code,\n\u001b[0;32m    269\u001b[0m         \u001b[39m-\u001b[39m\u001b[39m1\u001b[39m,\n\u001b[0;32m    270\u001b[0m         \u001b[39m\"\u001b[39m\u001b[39m%s\u001b[39;00m\u001b[39m:\u001b[39m\u001b[39m\\n\u001b[39;00m\u001b[39m \u001b[39m\u001b[39m%s\u001b[39;00m\u001b[39m\"\u001b[39m \u001b[39m%\u001b[39m (response\u001b[39m.\u001b[39murl, msg),\n\u001b[0;32m    271\u001b[0m         reason\u001b[39m=\u001b[39mreason,\n\u001b[0;32m    272\u001b[0m         headers\u001b[39m=\u001b[39mresponse\u001b[39m.\u001b[39mheaders,\n\u001b[0;32m    273\u001b[0m     )\n\u001b[0;32m    274\u001b[0m \u001b[39mexcept\u001b[39;00m requests\u001b[39m.\u001b[39mexceptions\u001b[39m.\u001b[39mRetryError \u001b[39mas\u001b[39;00m retry_error:\n\u001b[0;32m    275\u001b[0m     request \u001b[39m=\u001b[39m retry_error\u001b[39m.\u001b[39mrequest\n",
      "\u001b[1;31mSpotifyException\u001b[0m: http status: 401, code:-1 - https://api.spotify.com/v1/me/tracks?limit=50&offset=0:\n Missing token, reason: None"
     ]
    }
   ],
   "source": [
    "# Get all songs\n",
    "artist_name = []\n",
    "track_name = []\n",
    "popularity = []\n",
    "track_id = []\n",
    "\n",
    "\n",
    "#######################\n",
    "##EDIT THIS:\n",
    "num_songs = 2000 #Set this to number of songs. Limited to total songs in liked libaray of songs\n",
    "#######################\n",
    "\n",
    "\n",
    "\n",
    "for i in range(0,num_songs ,50):\n",
    "    results = sp.current_user_saved_tracks(limit=50,offset=i)\n",
    "    # track = item['track']\n",
    "    for idx, item in enumerate(results['items']):\n",
    "        track = item['track']\n",
    "        artist_name.append(track['artists'][0]['name'])\n",
    "        track_name.append(track['name'])\n",
    "        track_id.append(track['id'])\n",
    "        popularity.append(track['popularity'])"
   ]
  },
  {
   "cell_type": "code",
   "execution_count": 26,
   "metadata": {},
   "outputs": [
    {
     "name": "stdout",
     "output_type": "stream",
     "text": [
      "(2000, 4)\n"
     ]
    }
   ],
   "source": [
    "# Convert to pandas dataframe\n",
    "import pandas as pd\n",
    "track_dataframe = pd.DataFrame({'artist_name' : artist_name, 'track_name' : track_name, 'track_id' : track_id, 'popularity' : popularity})\n",
    "print(track_dataframe.shape)\n",
    "track_dataframe.head()\n",
    "df = track_dataframe"
   ]
  },
  {
   "cell_type": "code",
   "execution_count": 27,
   "metadata": {},
   "outputs": [
    {
     "data": {
      "text/html": [
       "<div>\n",
       "<style scoped>\n",
       "    .dataframe tbody tr th:only-of-type {\n",
       "        vertical-align: middle;\n",
       "    }\n",
       "\n",
       "    .dataframe tbody tr th {\n",
       "        vertical-align: top;\n",
       "    }\n",
       "\n",
       "    .dataframe thead th {\n",
       "        text-align: right;\n",
       "    }\n",
       "</style>\n",
       "<table border=\"1\" class=\"dataframe\">\n",
       "  <thead>\n",
       "    <tr style=\"text-align: right;\">\n",
       "      <th></th>\n",
       "      <th>artist_name</th>\n",
       "      <th>track_name</th>\n",
       "      <th>track_id</th>\n",
       "      <th>popularity</th>\n",
       "    </tr>\n",
       "  </thead>\n",
       "  <tbody>\n",
       "    <tr>\n",
       "      <th>0</th>\n",
       "      <td>Kenshi Yonezu</td>\n",
       "      <td>KICK BACK</td>\n",
       "      <td>3khEEPRyBeOUabbmOPJzAG</td>\n",
       "      <td>87</td>\n",
       "    </tr>\n",
       "    <tr>\n",
       "      <th>1</th>\n",
       "      <td>Vaundy</td>\n",
       "      <td>忘れ物</td>\n",
       "      <td>27dTB2lvWsqFeTdtPYtVT3</td>\n",
       "      <td>37</td>\n",
       "    </tr>\n",
       "    <tr>\n",
       "      <th>2</th>\n",
       "      <td>Col3trane</td>\n",
       "      <td>Astrology Joint</td>\n",
       "      <td>1jcGbrSCZ32Q2vyvOpOZzg</td>\n",
       "      <td>55</td>\n",
       "    </tr>\n",
       "    <tr>\n",
       "      <th>3</th>\n",
       "      <td>Joji</td>\n",
       "      <td>Die For You</td>\n",
       "      <td>26hOm7dTtBi0TdpDGl141t</td>\n",
       "      <td>87</td>\n",
       "    </tr>\n",
       "    <tr>\n",
       "      <th>4</th>\n",
       "      <td>Joji</td>\n",
       "      <td>1AM FREESTYLE</td>\n",
       "      <td>0FqBNLXlTNimxmVRdDMj6b</td>\n",
       "      <td>78</td>\n",
       "    </tr>\n",
       "    <tr>\n",
       "      <th>...</th>\n",
       "      <td>...</td>\n",
       "      <td>...</td>\n",
       "      <td>...</td>\n",
       "      <td>...</td>\n",
       "    </tr>\n",
       "    <tr>\n",
       "      <th>1995</th>\n",
       "      <td>Bobby Darin</td>\n",
       "      <td>Dream Lover</td>\n",
       "      <td>1KLpjQFgubHI3GkAICCNH3</td>\n",
       "      <td>57</td>\n",
       "    </tr>\n",
       "    <tr>\n",
       "      <th>1996</th>\n",
       "      <td>Los Lobos</td>\n",
       "      <td>We Belong Together</td>\n",
       "      <td>5jdOBtS2ujKQLiF3T467QP</td>\n",
       "      <td>54</td>\n",
       "    </tr>\n",
       "    <tr>\n",
       "      <th>1997</th>\n",
       "      <td>The Del-Vikings</td>\n",
       "      <td>Come Go With Me</td>\n",
       "      <td>4IYyGIbMS5ZkxDXGfPIrXr</td>\n",
       "      <td>59</td>\n",
       "    </tr>\n",
       "    <tr>\n",
       "      <th>1998</th>\n",
       "      <td>Bobby Vinton</td>\n",
       "      <td>Mr. Lonely</td>\n",
       "      <td>5KG2ahk1cONbHvg3dBdTbx</td>\n",
       "      <td>53</td>\n",
       "    </tr>\n",
       "    <tr>\n",
       "      <th>1999</th>\n",
       "      <td>Cavetown</td>\n",
       "      <td>Lemon Boy</td>\n",
       "      <td>0ZTjo2BjVAicpu6LRusfeg</td>\n",
       "      <td>0</td>\n",
       "    </tr>\n",
       "  </tbody>\n",
       "</table>\n",
       "<p>2000 rows × 4 columns</p>\n",
       "</div>"
      ],
      "text/plain": [
       "          artist_name          track_name                track_id  popularity\n",
       "0       Kenshi Yonezu           KICK BACK  3khEEPRyBeOUabbmOPJzAG          87\n",
       "1              Vaundy                 忘れ物  27dTB2lvWsqFeTdtPYtVT3          37\n",
       "2           Col3trane     Astrology Joint  1jcGbrSCZ32Q2vyvOpOZzg          55\n",
       "3                Joji         Die For You  26hOm7dTtBi0TdpDGl141t          87\n",
       "4                Joji       1AM FREESTYLE  0FqBNLXlTNimxmVRdDMj6b          78\n",
       "...               ...                 ...                     ...         ...\n",
       "1995      Bobby Darin         Dream Lover  1KLpjQFgubHI3GkAICCNH3          57\n",
       "1996        Los Lobos  We Belong Together  5jdOBtS2ujKQLiF3T467QP          54\n",
       "1997  The Del-Vikings     Come Go With Me  4IYyGIbMS5ZkxDXGfPIrXr          59\n",
       "1998     Bobby Vinton          Mr. Lonely  5KG2ahk1cONbHvg3dBdTbx          53\n",
       "1999         Cavetown           Lemon Boy  0ZTjo2BjVAicpu6LRusfeg           0\n",
       "\n",
       "[2000 rows x 4 columns]"
      ]
     },
     "execution_count": 27,
     "metadata": {},
     "output_type": "execute_result"
    }
   ],
   "source": [
    "#Display data\n",
    "df\n",
    "# df.to_csv(\"data/andrew/liked_songs.csv\")"
   ]
  },
  {
   "cell_type": "markdown",
   "metadata": {},
   "source": [
    "###  <font color='cyan'>TO DO</font> Update \"username\" as described in block below"
   ]
  },
  {
   "cell_type": "code",
   "execution_count": 31,
   "metadata": {},
   "outputs": [],
   "source": [
    "# Save data to csv\n",
    "\n",
    "##########\n",
    "#REPLACE THIS:\n",
    "username = \"andrew\" #Choices are only folder names under data (andrew, kenneth, alban)\n",
    "##########\n",
    "\n",
    "file_name = \"data/{user}/andrew_last_{count}_songs\".format(user = username, count = num_songs)\n",
    "df.to_csv(file_name, index=False)"
   ]
  },
  {
   "cell_type": "code",
   "execution_count": null,
   "metadata": {},
   "outputs": [],
   "source": []
  }
 ],
 "metadata": {
  "kernelspec": {
   "display_name": "Python 3.9.0 64-bit",
   "language": "python",
   "name": "python3"
  },
  "language_info": {
   "codemirror_mode": {
    "name": "ipython",
    "version": 3
   },
   "file_extension": ".py",
   "mimetype": "text/x-python",
   "name": "python",
   "nbconvert_exporter": "python",
   "pygments_lexer": "ipython3",
   "version": "3.9.13"
  },
  "orig_nbformat": 4,
  "vscode": {
   "interpreter": {
    "hash": "08e595c52ca3b9470036b1110e67b559e55f367cabc363f2e28d35631ed95060"
   }
  }
 },
 "nbformat": 4,
 "nbformat_minor": 2
}
