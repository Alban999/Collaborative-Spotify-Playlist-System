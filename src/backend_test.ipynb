{
 "cells": [
  {
   "attachments": {},
   "cell_type": "markdown",
   "metadata": {},
   "source": [
    "# Backend"
   ]
  },
  {
   "cell_type": "code",
   "execution_count": 1,
   "metadata": {},
   "outputs": [
    {
     "data": {
      "text/plain": [
       "<firebase_admin.App at 0x1f58d1ce670>"
      ]
     },
     "execution_count": 1,
     "metadata": {},
     "output_type": "execute_result"
    }
   ],
   "source": [
    "import firebase_admin\n",
    "from firebase_admin import credentials, firestore\n",
    "from backend import *\n",
    "\n",
    "cred = credentials.Certificate(\"data/andrew/ecbm4040-ahx2001-firebase-adminsdk-hpfc4-3bffe3cdfc.json\")\n",
    "\n",
    "firebase_admin.initialize_app(cred)"
   ]
  },
  {
   "cell_type": "code",
   "execution_count": 2,
   "metadata": {},
   "outputs": [
    {
     "name": "stdout",
     "output_type": "stream",
     "text": [
      "Authentication already loaded\n"
     ]
    },
    {
     "data": {
      "text/html": [
       "<div>\n",
       "<style scoped>\n",
       "    .dataframe tbody tr th:only-of-type {\n",
       "        vertical-align: middle;\n",
       "    }\n",
       "\n",
       "    .dataframe tbody tr th {\n",
       "        vertical-align: top;\n",
       "    }\n",
       "\n",
       "    .dataframe thead th {\n",
       "        text-align: right;\n",
       "    }\n",
       "</style>\n",
       "<table border=\"1\" class=\"dataframe\">\n",
       "  <thead>\n",
       "    <tr style=\"text-align: right;\">\n",
       "      <th></th>\n",
       "      <th>acousticness</th>\n",
       "      <th>danceability</th>\n",
       "      <th>duration_ms</th>\n",
       "      <th>energy</th>\n",
       "      <th>instrumentalness</th>\n",
       "      <th>key</th>\n",
       "      <th>liveness</th>\n",
       "      <th>loudness</th>\n",
       "      <th>mode</th>\n",
       "      <th>speechiness</th>\n",
       "      <th>tempo</th>\n",
       "      <th>valence</th>\n",
       "    </tr>\n",
       "  </thead>\n",
       "  <tbody>\n",
       "    <tr>\n",
       "      <th>0</th>\n",
       "      <td>0.356</td>\n",
       "      <td>0.572</td>\n",
       "      <td>NaN</td>\n",
       "      <td>0.628</td>\n",
       "      <td>0.0</td>\n",
       "      <td>NaN</td>\n",
       "      <td>0.0932</td>\n",
       "      <td>-5.691</td>\n",
       "      <td>NaN</td>\n",
       "      <td>0.0973</td>\n",
       "      <td>138.028</td>\n",
       "      <td>0.449</td>\n",
       "    </tr>\n",
       "    <tr>\n",
       "      <th>0</th>\n",
       "      <td>0.136</td>\n",
       "      <td>0.746</td>\n",
       "      <td>NaN</td>\n",
       "      <td>0.7</td>\n",
       "      <td>0.000159</td>\n",
       "      <td>NaN</td>\n",
       "      <td>0.11</td>\n",
       "      <td>-4.669</td>\n",
       "      <td>NaN</td>\n",
       "      <td>0.341</td>\n",
       "      <td>176.044</td>\n",
       "      <td>0.619</td>\n",
       "    </tr>\n",
       "    <tr>\n",
       "      <th>0</th>\n",
       "      <td>0.123</td>\n",
       "      <td>0.624</td>\n",
       "      <td>NaN</td>\n",
       "      <td>0.803</td>\n",
       "      <td>0.0</td>\n",
       "      <td>NaN</td>\n",
       "      <td>0.114</td>\n",
       "      <td>-4.105</td>\n",
       "      <td>NaN</td>\n",
       "      <td>0.246</td>\n",
       "      <td>166.018</td>\n",
       "      <td>0.821</td>\n",
       "    </tr>\n",
       "    <tr>\n",
       "      <th>0</th>\n",
       "      <td>0.238</td>\n",
       "      <td>0.605</td>\n",
       "      <td>NaN</td>\n",
       "      <td>0.638</td>\n",
       "      <td>0.00315</td>\n",
       "      <td>NaN</td>\n",
       "      <td>0.265</td>\n",
       "      <td>-4.544</td>\n",
       "      <td>NaN</td>\n",
       "      <td>0.0549</td>\n",
       "      <td>158.032</td>\n",
       "      <td>0.288</td>\n",
       "    </tr>\n",
       "    <tr>\n",
       "      <th>0</th>\n",
       "      <td>0.0244</td>\n",
       "      <td>0.68</td>\n",
       "      <td>NaN</td>\n",
       "      <td>0.954</td>\n",
       "      <td>0.0</td>\n",
       "      <td>NaN</td>\n",
       "      <td>0.112</td>\n",
       "      <td>-1.823</td>\n",
       "      <td>NaN</td>\n",
       "      <td>0.119</td>\n",
       "      <td>104.029</td>\n",
       "      <td>0.521</td>\n",
       "    </tr>\n",
       "    <tr>\n",
       "      <th>0</th>\n",
       "      <td>0.147</td>\n",
       "      <td>0.662</td>\n",
       "      <td>NaN</td>\n",
       "      <td>0.874</td>\n",
       "      <td>0.0</td>\n",
       "      <td>NaN</td>\n",
       "      <td>0.141</td>\n",
       "      <td>-4.509</td>\n",
       "      <td>NaN</td>\n",
       "      <td>0.0471</td>\n",
       "      <td>169.943</td>\n",
       "      <td>0.926</td>\n",
       "    </tr>\n",
       "    <tr>\n",
       "      <th>0</th>\n",
       "      <td>0.1</td>\n",
       "      <td>0.433</td>\n",
       "      <td>NaN</td>\n",
       "      <td>0.724</td>\n",
       "      <td>0.0</td>\n",
       "      <td>NaN</td>\n",
       "      <td>0.0918</td>\n",
       "      <td>-6.126</td>\n",
       "      <td>NaN</td>\n",
       "      <td>0.0372</td>\n",
       "      <td>174.006</td>\n",
       "      <td>0.689</td>\n",
       "    </tr>\n",
       "    <tr>\n",
       "      <th>0</th>\n",
       "      <td>0.187</td>\n",
       "      <td>0.763</td>\n",
       "      <td>NaN</td>\n",
       "      <td>0.812</td>\n",
       "      <td>0.000848</td>\n",
       "      <td>NaN</td>\n",
       "      <td>0.0752</td>\n",
       "      <td>-6.469</td>\n",
       "      <td>NaN</td>\n",
       "      <td>0.0792</td>\n",
       "      <td>101.95</td>\n",
       "      <td>0.828</td>\n",
       "    </tr>\n",
       "    <tr>\n",
       "      <th>0</th>\n",
       "      <td>0.0969</td>\n",
       "      <td>0.774</td>\n",
       "      <td>NaN</td>\n",
       "      <td>0.626</td>\n",
       "      <td>3.12e-05</td>\n",
       "      <td>NaN</td>\n",
       "      <td>0.0848</td>\n",
       "      <td>-4.432</td>\n",
       "      <td>NaN</td>\n",
       "      <td>0.0432</td>\n",
       "      <td>100.041</td>\n",
       "      <td>0.777</td>\n",
       "    </tr>\n",
       "    <tr>\n",
       "      <th>0</th>\n",
       "      <td>0.0668</td>\n",
       "      <td>0.598</td>\n",
       "      <td>NaN</td>\n",
       "      <td>0.532</td>\n",
       "      <td>3.22e-06</td>\n",
       "      <td>NaN</td>\n",
       "      <td>0.0617</td>\n",
       "      <td>-6.833</td>\n",
       "      <td>NaN</td>\n",
       "      <td>0.0295</td>\n",
       "      <td>74.963</td>\n",
       "      <td>0.261</td>\n",
       "    </tr>\n",
       "  </tbody>\n",
       "</table>\n",
       "</div>"
      ],
      "text/plain": [
       "  acousticness danceability duration_ms energy instrumentalness  key liveness  \\\n",
       "0        0.356        0.572         NaN  0.628              0.0  NaN   0.0932   \n",
       "0        0.136        0.746         NaN    0.7         0.000159  NaN     0.11   \n",
       "0        0.123        0.624         NaN  0.803              0.0  NaN    0.114   \n",
       "0        0.238        0.605         NaN  0.638          0.00315  NaN    0.265   \n",
       "0       0.0244         0.68         NaN  0.954              0.0  NaN    0.112   \n",
       "0        0.147        0.662         NaN  0.874              0.0  NaN    0.141   \n",
       "0          0.1        0.433         NaN  0.724              0.0  NaN   0.0918   \n",
       "0        0.187        0.763         NaN  0.812         0.000848  NaN   0.0752   \n",
       "0       0.0969        0.774         NaN  0.626         3.12e-05  NaN   0.0848   \n",
       "0       0.0668        0.598         NaN  0.532         3.22e-06  NaN   0.0617   \n",
       "\n",
       "  loudness mode speechiness    tempo valence  \n",
       "0   -5.691  NaN      0.0973  138.028   0.449  \n",
       "0   -4.669  NaN       0.341  176.044   0.619  \n",
       "0   -4.105  NaN       0.246  166.018   0.821  \n",
       "0   -4.544  NaN      0.0549  158.032   0.288  \n",
       "0   -1.823  NaN       0.119  104.029   0.521  \n",
       "0   -4.509  NaN      0.0471  169.943   0.926  \n",
       "0   -6.126  NaN      0.0372  174.006   0.689  \n",
       "0   -6.469  NaN      0.0792   101.95   0.828  \n",
       "0   -4.432  NaN      0.0432  100.041   0.777  \n",
       "0   -6.833  NaN      0.0295   74.963   0.261  "
      ]
     },
     "execution_count": 2,
     "metadata": {},
     "output_type": "execute_result"
    }
   ],
   "source": [
    "collection = 'bigdata2'\n",
    "num_tracks = 10\n",
    "sort_by = 'rank'\n",
    "load_reference_data(collection,num_tracks,sort_by,auth=default_auth_path)\n"
   ]
  },
  {
   "cell_type": "code",
   "execution_count": 2,
   "metadata": {},
   "outputs": [],
   "source": [
    "test = [{'playlist_name':'1'},{'playlist_name':'c'}]\n",
    "collection = 'test'\n",
    "add_playlists(test,collection, auth=default_auth_path)"
   ]
  },
  {
   "cell_type": "code",
   "execution_count": null,
   "metadata": {},
   "outputs": [
    {
     "name": "stdout",
     "output_type": "stream",
     "text": [
      "Authentication already loaded\n",
      "Deleting Playlist: 1\n",
      "Deleting Playlist: c\n",
      "Deleting Playlist: playlist_name\n"
     ]
    }
   ],
   "source": [
    "clear_collection(collection)"
   ]
  },
  {
   "cell_type": "code",
   "execution_count": 3,
   "metadata": {},
   "outputs": [
    {
     "name": "stdout",
     "output_type": "stream",
     "text": [
      "Authentication already loaded\n"
     ]
    },
    {
     "data": {
      "text/plain": [
       "[{'playlist_name': '1'}, {'playlist_name': 'c'}]"
      ]
     },
     "execution_count": 3,
     "metadata": {},
     "output_type": "execute_result"
    }
   ],
   "source": [
    "get_playlists(collection)"
   ]
  },
  {
   "cell_type": "code",
   "execution_count": 3,
   "metadata": {},
   "outputs": [
    {
     "name": "stdout",
     "output_type": "stream",
     "text": [
      "Authentication already loaded\n"
     ]
    }
   ],
   "source": [
    "playlists = get_playlists('playlists_selected')"
   ]
  },
  {
   "cell_type": "code",
   "execution_count": 5,
   "metadata": {},
   "outputs": [
    {
     "data": {
      "text/plain": [
       "['5', '10']"
      ]
     },
     "execution_count": 5,
     "metadata": {},
     "output_type": "execute_result"
    }
   ],
   "source": [
    "get_track_ids(playlists)"
   ]
  },
  {
   "cell_type": "code",
   "execution_count": null,
   "metadata": {},
   "outputs": [],
   "source": []
  },
  {
   "attachments": {},
   "cell_type": "markdown",
   "metadata": {},
   "source": [
    "# FEATURE"
   ]
  },
  {
   "cell_type": "code",
   "execution_count": 1,
   "metadata": {},
   "outputs": [],
   "source": [
    "from preprocess import *"
   ]
  },
  {
   "cell_type": "code",
   "execution_count": 2,
   "metadata": {},
   "outputs": [
    {
     "name": "stderr",
     "output_type": "stream",
     "text": [
      "c:\\D_drive\\Columbia 2022\\Big data\\Project\\spotify-big-data-project\\src\\preprocess.py:25: FutureWarning: The frame.append method is deprecated and will be removed from pandas in a future version. Use pandas.concat instead.\n",
      "  tf_df = tf_df.append(feat, ignore_index=True)\n"
     ]
    },
    {
     "data": {
      "text/html": [
       "<div>\n",
       "<style scoped>\n",
       "    .dataframe tbody tr th:only-of-type {\n",
       "        vertical-align: middle;\n",
       "    }\n",
       "\n",
       "    .dataframe tbody tr th {\n",
       "        vertical-align: top;\n",
       "    }\n",
       "\n",
       "    .dataframe thead th {\n",
       "        text-align: right;\n",
       "    }\n",
       "</style>\n",
       "<table border=\"1\" class=\"dataframe\">\n",
       "  <thead>\n",
       "    <tr style=\"text-align: right;\">\n",
       "      <th></th>\n",
       "      <th>acousticness</th>\n",
       "      <th>danceability</th>\n",
       "      <th>duration_ms</th>\n",
       "      <th>energy</th>\n",
       "      <th>instrumentalness</th>\n",
       "      <th>key</th>\n",
       "      <th>liveness</th>\n",
       "      <th>loudness</th>\n",
       "      <th>mode</th>\n",
       "      <th>speechiness</th>\n",
       "      <th>tempo</th>\n",
       "      <th>valence</th>\n",
       "    </tr>\n",
       "  </thead>\n",
       "  <tbody>\n",
       "    <tr>\n",
       "      <th>0</th>\n",
       "      <td>0.0252</td>\n",
       "      <td>0.386</td>\n",
       "      <td>271520</td>\n",
       "      <td>0.594</td>\n",
       "      <td>0.000003</td>\n",
       "      <td>1</td>\n",
       "      <td>0.0873</td>\n",
       "      <td>-6.186</td>\n",
       "      <td>1</td>\n",
       "      <td>0.0566</td>\n",
       "      <td>113.756</td>\n",
       "      <td>0.187</td>\n",
       "    </tr>\n",
       "  </tbody>\n",
       "</table>\n",
       "</div>"
      ],
      "text/plain": [
       "   acousticness  danceability duration_ms  energy  instrumentalness key  \\\n",
       "0        0.0252         0.386      271520   0.594          0.000003   1   \n",
       "\n",
       "   liveness  loudness mode  speechiness    tempo  valence  \n",
       "0    0.0873    -6.186    1       0.0566  113.756    0.187  "
      ]
     },
     "execution_count": 2,
     "metadata": {},
     "output_type": "execute_result"
    }
   ],
   "source": [
    "ids = [\"31MkGwj0SWgZaTvEt5Hgxv\"]\n",
    "client_id = \"3e6ce8e4fade4a9199c6031f623338c4\" # REPLACE THIS WITH YOUR OWN\n",
    "client_secret = \"adaa590a01f44864ac51f6aed29993df\" #REPLACE WITH YOUR OWN\n",
    "get_features_from_ids(ids, client_id, client_secret)"
   ]
  }
 ],
 "metadata": {
  "kernelspec": {
   "display_name": "Python 3",
   "language": "python",
   "name": "python3"
  },
  "language_info": {
   "codemirror_mode": {
    "name": "ipython",
    "version": 3
   },
   "file_extension": ".py",
   "mimetype": "text/x-python",
   "name": "python",
   "nbconvert_exporter": "python",
   "pygments_lexer": "ipython3",
   "version": "3.9.13"
  },
  "orig_nbformat": 4,
  "vscode": {
   "interpreter": {
    "hash": "08e595c52ca3b9470036b1110e67b559e55f367cabc363f2e28d35631ed95060"
   }
  }
 },
 "nbformat": 4,
 "nbformat_minor": 2
}
