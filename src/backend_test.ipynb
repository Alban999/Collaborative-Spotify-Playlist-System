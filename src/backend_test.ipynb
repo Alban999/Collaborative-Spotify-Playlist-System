{
 "cells": [
  {
   "cell_type": "code",
   "execution_count": 1,
   "metadata": {},
   "outputs": [],
   "source": [
    "import firebase_admin\n",
    "from firebase_admin import credentials, firestore\n",
    "from backend import *\n",
    "\n",
    "# cred = credentials.Certificate(\"data/andrew/ecbm4040-ahx2001-firebase-adminsdk-hpfc4-3bffe3cdfc.json\")\n",
    "\n",
    "# firebase_admin.initialize_app(cred)"
   ]
  },
  {
   "cell_type": "code",
   "execution_count": 2,
   "metadata": {},
   "outputs": [],
   "source": [
    "test = [{'playlist_name':'1'},{'playlist_name':'c'}]\n",
    "collection = 'test'\n",
    "add_playlists(test,collection, auth=default_auth_path)"
   ]
  },
  {
   "cell_type": "code",
   "execution_count": null,
   "metadata": {},
   "outputs": [
    {
     "name": "stdout",
     "output_type": "stream",
     "text": [
      "Authentication already loaded\n",
      "Deleting Playlist: 1\n",
      "Deleting Playlist: c\n",
      "Deleting Playlist: playlist_name\n"
     ]
    }
   ],
   "source": [
    "clear_collection(collection)"
   ]
  },
  {
   "cell_type": "code",
   "execution_count": 3,
   "metadata": {},
   "outputs": [
    {
     "name": "stdout",
     "output_type": "stream",
     "text": [
      "Authentication already loaded\n"
     ]
    },
    {
     "data": {
      "text/plain": [
       "[{'playlist_name': '1'}, {'playlist_name': 'c'}]"
      ]
     },
     "execution_count": 3,
     "metadata": {},
     "output_type": "execute_result"
    }
   ],
   "source": [
    "get_playlists(collection)"
   ]
  },
  {
   "cell_type": "code",
   "execution_count": 2,
   "metadata": {},
   "outputs": [
    {
     "ename": "TypeError",
     "evalue": "string indices must be integers",
     "output_type": "error",
     "traceback": [
      "\u001b[1;31m---------------------------------------------------------------------------\u001b[0m",
      "\u001b[1;31mTypeError\u001b[0m                                 Traceback (most recent call last)",
      "Cell \u001b[1;32mIn[2], line 1\u001b[0m\n\u001b[1;32m----> 1\u001b[0m get_track_ids(\u001b[39m'\u001b[39;49m\u001b[39mplaylists_selected\u001b[39;49m\u001b[39m'\u001b[39;49m)\n",
      "File \u001b[1;32mc:\\D_drive\\Columbia 2022\\Big data\\Project\\spotify-big-data-project\\src\\backend.py:94\u001b[0m, in \u001b[0;36mget_track_ids\u001b[1;34m(playlists)\u001b[0m\n\u001b[0;32m     92\u001b[0m song_ids \u001b[39m=\u001b[39m []\n\u001b[0;32m     93\u001b[0m \u001b[39mfor\u001b[39;00m playlist \u001b[39min\u001b[39;00m playlists:\n\u001b[1;32m---> 94\u001b[0m     \u001b[39mfor\u001b[39;00m track \u001b[39min\u001b[39;00m playlist[\u001b[39m'\u001b[39;49m\u001b[39mplaylist_tracks\u001b[39;49m\u001b[39m'\u001b[39;49m]:\n\u001b[0;32m     95\u001b[0m         song_ids\u001b[39m.\u001b[39mappend(track[\u001b[39m'\u001b[39m\u001b[39mtrack_id\u001b[39m\u001b[39m'\u001b[39m])\n\u001b[0;32m     96\u001b[0m \u001b[39mreturn\u001b[39;00m song_ids\n",
      "\u001b[1;31mTypeError\u001b[0m: string indices must be integers"
     ]
    }
   ],
   "source": [
    "get_track_ids('playlists_selected')"
   ]
  },
  {
   "cell_type": "code",
   "execution_count": null,
   "metadata": {},
   "outputs": [],
   "source": []
  }
 ],
 "metadata": {
  "kernelspec": {
   "display_name": "Python 3",
   "language": "python",
   "name": "python3"
  },
  "language_info": {
   "codemirror_mode": {
    "name": "ipython",
    "version": 3
   },
   "file_extension": ".py",
   "mimetype": "text/x-python",
   "name": "python",
   "nbconvert_exporter": "python",
   "pygments_lexer": "ipython3",
   "version": "3.9.13"
  },
  "orig_nbformat": 4,
  "vscode": {
   "interpreter": {
    "hash": "08e595c52ca3b9470036b1110e67b559e55f367cabc363f2e28d35631ed95060"
   }
  }
 },
 "nbformat": 4,
 "nbformat_minor": 2
}
