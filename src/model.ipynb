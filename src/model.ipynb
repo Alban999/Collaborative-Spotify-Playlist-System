{
 "cells": [
  {
   "cell_type": "code",
   "execution_count": 22,
   "metadata": {},
   "outputs": [],
   "source": [
    "import pandas as pd\n",
    "import numpy as np\n",
    "from sklearn.preprocessing import normalize\n",
    "from sklearn.model_selection import train_test_split\n",
    "\n"
   ]
  },
  {
   "cell_type": "code",
   "execution_count": 70,
   "metadata": {},
   "outputs": [],
   "source": [
    "#SETUP authentication. Run this before anything\n",
    "\n",
    "\n",
    "##############\n",
    "#To do\n",
    "client_id = \"3e6ce8e4fade4a9199c6031f623338c4\" # REPLACE THIS WITH YOUR OWN\n",
    "client_secret = \"adaa590a01f44864ac51f6aed29993df\" #REPLACE WITH YOUR OWN\n",
    "##############\n",
    "\n",
    "\n",
    "\n",
    "SPOTIPY_CLIENT_ID = client_id\n",
    "SPOTIPY_CLIENT_SECRET = client_secret\n",
    "\n",
    "import os\n",
    "os.environ[\"SPOTIPY_CLIENT_SECRET\"] = client_secret\n",
    "os.environ[\"SPOTIPY_CLIENT_ID\"] = client_id\n",
    "os.environ[\"SPOTIPY_REDIRECT_URI\"] = \"http://localhost\" #Add this to the URI redirect: SEE \"https://community.spotify.com/t5/Spotify-for-Developers/Redirect-URI-needed/td-p/5067419\"  and https://community.spotify.com/t5/Spotify-for-Developers/INVALID-CLIENT-Invalid-redirect-URI/td-p/5228936\n"
   ]
  },
  {
   "cell_type": "code",
   "execution_count": 72,
   "metadata": {},
   "outputs": [],
   "source": [
    "import spotipy\n",
    "from spotipy.oauth2 import SpotifyClientCredentials\n",
    "\n",
    "cid = client_id\n",
    "secret = client_secret\n",
    "client_credentials_manager = SpotifyClientCredentials(client_id=cid, client_secret=secret)\n",
    "sp = spotipy.Spotify(client_credentials_manager=client_credentials_manager)"
   ]
  },
  {
   "cell_type": "code",
   "execution_count": 66,
   "metadata": {},
   "outputs": [
    {
     "name": "stdout",
     "output_type": "stream",
     "text": [
      "6.118217763749462e-05 danceability variance\n",
      "0.0001429283756346873 energy variance\n",
      "0.0003178663491591011 key variance\n",
      "0.00023393986046758156 loudness variance\n",
      "0.00030599999999999996 mode variance\n",
      "0.0005248400289208371 speechiness variance\n",
      "0.0004702211253977399 acousticness variance\n",
      "0.0008767667308343852 instrumentalness variance\n",
      "0.0003758234966431983 liveness variance\n",
      "0.0001961365694945423 valence variance\n",
      "5.851412427642712e-05 tempo variance\n",
      "7.806864201776142e-05 duration_ms variance\n",
      "Least varient feature: tempo\n"
     ]
    }
   ],
   "source": [
    "#Read in data:\n",
    "file_path = \"data/andrew/andrew_last_2000_songs_features.csv\"\n",
    "df = pd.read_csv(file_path)\n",
    "train, test = train_test_split(df, test_size=0.5)\n",
    "train = train[[\"danceability\",\"energy\",\"key\",\"loudness\",\"mode\",\"speechiness\",\"acousticness\",\"instrumentalness\",\"liveness\",\"valence\",\"tempo\",\"duration_ms\"]]\n",
    "\n",
    "columns = [\"danceability\",\"energy\",\"key\",\"loudness\",\"mode\",\"speechiness\",\"acousticness\",\"instrumentalness\",\"liveness\",\"valence\",\"tempo\",\"duration_ms\"]\n",
    "variances = []\n",
    "for feature in train.columns:\n",
    "    col = train[feature].tolist()\n",
    "    print(np.var(normalize([col],norm='l2')),feature+\" variance\")\n",
    "    variances.append(np.var(normalize([col],norm='l2')))\n",
    "print(\"Least varient feature:\", columns[variances.index(min(variances))])"
   ]
  },
  {
   "cell_type": "code",
   "execution_count": 82,
   "metadata": {},
   "outputs": [
    {
     "name": "stdout",
     "output_type": "stream",
     "text": [
      "list of song ids ['spotify:track:1fujSajijBpJlr5mRGKHJN', 'spotify:track:6qI4hA8Jp6SrjVQbDOWCcK', 'spotify:track:1VUChQjlhCIDGF724QpKb9', 'spotify:track:6lIRYe72fn1pf7TNqfI0ul', 'spotify:track:3ODXRUPL44f04cCacwiCLC', 'spotify:track:6vkL4147WP0E8AUuQUyNDd', 'spotify:track:3YvEJlBThyBUzyVAI1NIlV', 'spotify:track:0qXP5fMhxGzxALOkXYUxfP', 'spotify:track:2GiJYvgVaD2HtM8GqD9EgQ', 'spotify:track:0ZXdzaT1k688dkpNeEgQiV']\n",
      "\n",
      "\n",
      "Playlist with song names\n",
      "The Luckiest\n",
      "oh fuck im drunk\n",
      "At The End Of The Day\n",
      "Cheesin’ (with Cautious Clay, Remi Wolf, Still Woozy, Sophie Meiers, Claud, Melanie Faye, & HXNS)\n",
      "i\n",
      "It's U\n",
      "Cloud Kingdom\n",
      "Loverboy\n",
      "Electric Love\n",
      "I Don't Know Why\n"
     ]
    }
   ],
   "source": [
    "#Get mean of feature:\n",
    "mean = np.mean(train[\"tempo\"])\n",
    "\n",
    "#iterate over each song in test:\n",
    "test_search = test[[\"uri\",\"tempo\"]]\n",
    "dic = {}\n",
    "scores = []\n",
    "for song in test_search.values:\n",
    "    dic[song[0]] = abs(mean-song[1]) #replaces the abs part with some sort of distance metric to deal with lists of means and lists of values. This is just a single distance for example\n",
    "    scores.append(abs(mean-song[1]))\n",
    "sort = np.sort(scores)\n",
    "playlist= []\n",
    "for i in range(10):\n",
    "    val = sort[i]\n",
    "    for key in dic:\n",
    "        if dic[key] == val:\n",
    "            playlist.append(key)\n",
    "\n",
    "print(\"list of song ids\",playlist)\n",
    "song_list = []\n",
    "for uri in playlist:\n",
    "    track = str(uri)\n",
    "    track = sp.track(track)\n",
    "    song_list.append(track['name'])\n",
    "print(\"\\n\") \n",
    "print(\"Playlist with song names\")\n",
    "for song in song_list:\n",
    "    print(song)\n"
   ]
  },
  {
   "cell_type": "code",
   "execution_count": null,
   "metadata": {},
   "outputs": [],
   "source": []
  }
 ],
 "metadata": {
  "kernelspec": {
   "display_name": "Python 3.9.13 64-bit",
   "language": "python",
   "name": "python3"
  },
  "language_info": {
   "codemirror_mode": {
    "name": "ipython",
    "version": 3
   },
   "file_extension": ".py",
   "mimetype": "text/x-python",
   "name": "python",
   "nbconvert_exporter": "python",
   "pygments_lexer": "ipython3",
   "version": "3.9.13"
  },
  "orig_nbformat": 4,
  "vscode": {
   "interpreter": {
    "hash": "08e595c52ca3b9470036b1110e67b559e55f367cabc363f2e28d35631ed95060"
   }
  }
 },
 "nbformat": 4,
 "nbformat_minor": 2
}
